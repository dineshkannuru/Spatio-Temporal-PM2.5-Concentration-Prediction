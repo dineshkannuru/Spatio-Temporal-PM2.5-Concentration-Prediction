{
  "nbformat": 4,
  "nbformat_minor": 0,
  "metadata": {
    "colab": {
      "name": "DataPreprocessing.ipynb",
      "provenance": [],
      "collapsed_sections": []
    },
    "kernelspec": {
      "name": "python3",
      "display_name": "Python 3"
    }
  },
  "cells": [
    {
      "cell_type": "code",
      "metadata": {
        "id": "CPw9Z3F4fAtq",
        "colab_type": "code",
        "colab": {}
      },
      "source": [
        "import pandas as pd\n",
        "import numpy as np\n",
        "import matplotlib.pyplot as plt\n",
        "from sklearn import preprocessing\n",
        "import tensorflow as tf\n",
        "import copy"
      ],
      "execution_count": null,
      "outputs": []
    },
    {
      "cell_type": "code",
      "metadata": {
        "id": "Ai6m_wlefblQ",
        "colab_type": "code",
        "colab": {}
      },
      "source": [
        "data = pd.read_excel('station_locations.xlsx')"
      ],
      "execution_count": null,
      "outputs": []
    },
    {
      "cell_type": "code",
      "metadata": {
        "id": "tqmbLn7HfjNH",
        "colab_type": "code",
        "colab": {
          "base_uri": "https://localhost:8080/",
          "height": 204
        },
        "outputId": "e92364a5-7b95-4643-c5e0-008cef72fcd4"
      },
      "source": [
        "data.head()"
      ],
      "execution_count": null,
      "outputs": [
        {
          "output_type": "execute_result",
          "data": {
            "text/html": [
              "<div>\n",
              "<style scoped>\n",
              "    .dataframe tbody tr th:only-of-type {\n",
              "        vertical-align: middle;\n",
              "    }\n",
              "\n",
              "    .dataframe tbody tr th {\n",
              "        vertical-align: top;\n",
              "    }\n",
              "\n",
              "    .dataframe thead th {\n",
              "        text-align: right;\n",
              "    }\n",
              "</style>\n",
              "<table border=\"1\" class=\"dataframe\">\n",
              "  <thead>\n",
              "    <tr style=\"text-align: right;\">\n",
              "      <th></th>\n",
              "      <th>Station Name</th>\n",
              "      <th>Latitude</th>\n",
              "      <th>Longitude</th>\n",
              "    </tr>\n",
              "  </thead>\n",
              "  <tbody>\n",
              "    <tr>\n",
              "      <th>0</th>\n",
              "      <td>Alipur</td>\n",
              "      <td>28.815329</td>\n",
              "      <td>77.153010</td>\n",
              "    </tr>\n",
              "    <tr>\n",
              "      <th>1</th>\n",
              "      <td>Anand_Vihar</td>\n",
              "      <td>28.646835</td>\n",
              "      <td>77.316032</td>\n",
              "    </tr>\n",
              "    <tr>\n",
              "      <th>2</th>\n",
              "      <td>Ashok_Vihar</td>\n",
              "      <td>28.695381</td>\n",
              "      <td>77.181665</td>\n",
              "    </tr>\n",
              "    <tr>\n",
              "      <th>3</th>\n",
              "      <td>Bawana</td>\n",
              "      <td>28.776200</td>\n",
              "      <td>77.051074</td>\n",
              "    </tr>\n",
              "    <tr>\n",
              "      <th>4</th>\n",
              "      <td>DTU</td>\n",
              "      <td>28.750050</td>\n",
              "      <td>77.111261</td>\n",
              "    </tr>\n",
              "  </tbody>\n",
              "</table>\n",
              "</div>"
            ],
            "text/plain": [
              "  Station Name   Latitude  Longitude\n",
              "0       Alipur  28.815329  77.153010\n",
              "1  Anand_Vihar  28.646835  77.316032\n",
              "2  Ashok_Vihar  28.695381  77.181665\n",
              "3       Bawana  28.776200  77.051074\n",
              "4          DTU  28.750050  77.111261"
            ]
          },
          "metadata": {
            "tags": []
          },
          "execution_count": 66
        }
      ]
    },
    {
      "cell_type": "code",
      "metadata": {
        "id": "PHWSzG-JfkqZ",
        "colab_type": "code",
        "colab": {}
      },
      "source": [
        "pm_data = pd.read_excel('pm.xlsx')"
      ],
      "execution_count": null,
      "outputs": []
    },
    {
      "cell_type": "code",
      "metadata": {
        "id": "JRFqNBoOfxrV",
        "colab_type": "code",
        "colab": {
          "base_uri": "https://localhost:8080/",
          "height": 949
        },
        "outputId": "02d14efc-62f0-4e35-de1b-fdc3e06a81c4"
      },
      "source": [
        "pm_data.head()\n",
        "pm_data = pd.DataFrame(pm_data)\n",
        "pm_data"
      ],
      "execution_count": null,
      "outputs": [
        {
          "output_type": "execute_result",
          "data": {
            "text/html": [
              "<div>\n",
              "<style scoped>\n",
              "    .dataframe tbody tr th:only-of-type {\n",
              "        vertical-align: middle;\n",
              "    }\n",
              "\n",
              "    .dataframe tbody tr th {\n",
              "        vertical-align: top;\n",
              "    }\n",
              "\n",
              "    .dataframe thead th {\n",
              "        text-align: right;\n",
              "    }\n",
              "</style>\n",
              "<table border=\"1\" class=\"dataframe\">\n",
              "  <thead>\n",
              "    <tr style=\"text-align: right;\">\n",
              "      <th></th>\n",
              "      <th>FromDate</th>\n",
              "      <th>ToDate</th>\n",
              "      <th>Alipur</th>\n",
              "      <th>Anand_Vihar</th>\n",
              "      <th>Ashok_Vihar</th>\n",
              "      <th>Bawana</th>\n",
              "      <th>DTU</th>\n",
              "      <th>Dr_Karni_Singh_Shooting_Range</th>\n",
              "      <th>Dwarka_Sector_8</th>\n",
              "      <th>IHBAS</th>\n",
              "      <th>Jahangirpuri</th>\n",
              "      <th>Jawaharlal_Nehru_Stadium</th>\n",
              "      <th>Major_Dhyan_Chand_National_Stadium</th>\n",
              "      <th>Mandir_Marg</th>\n",
              "      <th>Mundka</th>\n",
              "      <th>NSIT_Dwarka</th>\n",
              "      <th>Najafgarh</th>\n",
              "      <th>Narela</th>\n",
              "      <th>Nehru_Nagar</th>\n",
              "      <th>Okhla_Phase_2</th>\n",
              "      <th>Patparganj</th>\n",
              "      <th>Punjabi_Bagh</th>\n",
              "      <th>Pusa_Delhi_DPCC</th>\n",
              "      <th>RK_Puram</th>\n",
              "      <th>Rohini</th>\n",
              "      <th>Shadipur</th>\n",
              "      <th>Sirifort</th>\n",
              "      <th>Sonia_Vihar</th>\n",
              "      <th>Sri_Aurobindo_Marg</th>\n",
              "      <th>Vivek_Vihar</th>\n",
              "      <th>Wazirpur</th>\n",
              "    </tr>\n",
              "  </thead>\n",
              "  <tbody>\n",
              "    <tr>\n",
              "      <th>0</th>\n",
              "      <td>01-Jan-2019 - 00:00</td>\n",
              "      <td>01-Jan-2019 - 01:00</td>\n",
              "      <td>361.5</td>\n",
              "      <td>517.25</td>\n",
              "      <td>408.25</td>\n",
              "      <td>128.0</td>\n",
              "      <td>349.00</td>\n",
              "      <td>360.00</td>\n",
              "      <td>486.00</td>\n",
              "      <td>330.65</td>\n",
              "      <td>414.25</td>\n",
              "      <td>608.50</td>\n",
              "      <td>350.50</td>\n",
              "      <td>386.25</td>\n",
              "      <td>474.5</td>\n",
              "      <td>504.96</td>\n",
              "      <td>186.25</td>\n",
              "      <td>271.75</td>\n",
              "      <td>689.50</td>\n",
              "      <td>504.25</td>\n",
              "      <td>458.25</td>\n",
              "      <td>501.25</td>\n",
              "      <td>420.25</td>\n",
              "      <td>655.50</td>\n",
              "      <td>406.00</td>\n",
              "      <td>291.55</td>\n",
              "      <td>432.75</td>\n",
              "      <td>415.00</td>\n",
              "      <td>252.50</td>\n",
              "      <td>347.50</td>\n",
              "      <td>467.0</td>\n",
              "    </tr>\n",
              "    <tr>\n",
              "      <th>1</th>\n",
              "      <td>01-Jan-2019 - 01:00</td>\n",
              "      <td>01-Jan-2019 - 02:00</td>\n",
              "      <td>348.0</td>\n",
              "      <td>531.25</td>\n",
              "      <td>466.75</td>\n",
              "      <td>138.0</td>\n",
              "      <td>374.75</td>\n",
              "      <td>312.00</td>\n",
              "      <td>401.75</td>\n",
              "      <td>316.53</td>\n",
              "      <td>402.00</td>\n",
              "      <td>677.00</td>\n",
              "      <td>366.75</td>\n",
              "      <td>383.50</td>\n",
              "      <td>397.0</td>\n",
              "      <td>465.76</td>\n",
              "      <td>197.50</td>\n",
              "      <td>250.50</td>\n",
              "      <td>596.00</td>\n",
              "      <td>504.75</td>\n",
              "      <td>472.25</td>\n",
              "      <td>521.25</td>\n",
              "      <td>475.75</td>\n",
              "      <td>583.50</td>\n",
              "      <td>401.00</td>\n",
              "      <td>371.05</td>\n",
              "      <td>401.75</td>\n",
              "      <td>533.00</td>\n",
              "      <td>289.50</td>\n",
              "      <td>307.00</td>\n",
              "      <td>483.0</td>\n",
              "    </tr>\n",
              "    <tr>\n",
              "      <th>2</th>\n",
              "      <td>01-Jan-2019 - 02:00</td>\n",
              "      <td>01-Jan-2019 - 03:00</td>\n",
              "      <td>298.0</td>\n",
              "      <td>542.00</td>\n",
              "      <td>496.00</td>\n",
              "      <td>123.0</td>\n",
              "      <td>383.00</td>\n",
              "      <td>291.00</td>\n",
              "      <td>333.75</td>\n",
              "      <td>297.23</td>\n",
              "      <td>361.75</td>\n",
              "      <td>655.00</td>\n",
              "      <td>352.75</td>\n",
              "      <td>467.50</td>\n",
              "      <td>308.0</td>\n",
              "      <td>410.38</td>\n",
              "      <td>192.50</td>\n",
              "      <td>237.00</td>\n",
              "      <td>524.50</td>\n",
              "      <td>482.25</td>\n",
              "      <td>440.50</td>\n",
              "      <td>538.50</td>\n",
              "      <td>515.75</td>\n",
              "      <td>435.75</td>\n",
              "      <td>376.00</td>\n",
              "      <td>468.18</td>\n",
              "      <td>398.75</td>\n",
              "      <td>431.00</td>\n",
              "      <td>292.50</td>\n",
              "      <td>288.50</td>\n",
              "      <td>473.5</td>\n",
              "    </tr>\n",
              "    <tr>\n",
              "      <th>3</th>\n",
              "      <td>01-Jan-2019 - 03:00</td>\n",
              "      <td>01-Jan-2019 - 04:00</td>\n",
              "      <td>276.5</td>\n",
              "      <td>547.50</td>\n",
              "      <td>467.25</td>\n",
              "      <td>125.0</td>\n",
              "      <td>337.75</td>\n",
              "      <td>287.00</td>\n",
              "      <td>256.75</td>\n",
              "      <td>279.30</td>\n",
              "      <td>329.75</td>\n",
              "      <td>550.50</td>\n",
              "      <td>326.00</td>\n",
              "      <td>474.75</td>\n",
              "      <td>318.5</td>\n",
              "      <td>320.13</td>\n",
              "      <td>188.75</td>\n",
              "      <td>249.25</td>\n",
              "      <td>462.25</td>\n",
              "      <td>426.25</td>\n",
              "      <td>437.25</td>\n",
              "      <td>465.25</td>\n",
              "      <td>487.25</td>\n",
              "      <td>351.50</td>\n",
              "      <td>340.00</td>\n",
              "      <td>458.30</td>\n",
              "      <td>364.75</td>\n",
              "      <td>414.00</td>\n",
              "      <td>283.50</td>\n",
              "      <td>294.00</td>\n",
              "      <td>496.0</td>\n",
              "    </tr>\n",
              "    <tr>\n",
              "      <th>4</th>\n",
              "      <td>01-Jan-2019 - 04:00</td>\n",
              "      <td>01-Jan-2019 - 05:00</td>\n",
              "      <td>295.0</td>\n",
              "      <td>497.00</td>\n",
              "      <td>453.25</td>\n",
              "      <td>130.0</td>\n",
              "      <td>387.00</td>\n",
              "      <td>289.00</td>\n",
              "      <td>222.25</td>\n",
              "      <td>258.45</td>\n",
              "      <td>346.00</td>\n",
              "      <td>441.00</td>\n",
              "      <td>271.00</td>\n",
              "      <td>435.00</td>\n",
              "      <td>304.5</td>\n",
              "      <td>273.90</td>\n",
              "      <td>182.25</td>\n",
              "      <td>261.00</td>\n",
              "      <td>370.50</td>\n",
              "      <td>365.50</td>\n",
              "      <td>396.00</td>\n",
              "      <td>361.00</td>\n",
              "      <td>454.50</td>\n",
              "      <td>319.75</td>\n",
              "      <td>371.00</td>\n",
              "      <td>417.15</td>\n",
              "      <td>327.75</td>\n",
              "      <td>381.00</td>\n",
              "      <td>264.50</td>\n",
              "      <td>334.00</td>\n",
              "      <td>513.0</td>\n",
              "    </tr>\n",
              "    <tr>\n",
              "      <th>...</th>\n",
              "      <td>...</td>\n",
              "      <td>...</td>\n",
              "      <td>...</td>\n",
              "      <td>...</td>\n",
              "      <td>...</td>\n",
              "      <td>...</td>\n",
              "      <td>...</td>\n",
              "      <td>...</td>\n",
              "      <td>...</td>\n",
              "      <td>...</td>\n",
              "      <td>...</td>\n",
              "      <td>...</td>\n",
              "      <td>...</td>\n",
              "      <td>...</td>\n",
              "      <td>...</td>\n",
              "      <td>...</td>\n",
              "      <td>...</td>\n",
              "      <td>...</td>\n",
              "      <td>...</td>\n",
              "      <td>...</td>\n",
              "      <td>...</td>\n",
              "      <td>...</td>\n",
              "      <td>...</td>\n",
              "      <td>...</td>\n",
              "      <td>...</td>\n",
              "      <td>...</td>\n",
              "      <td>...</td>\n",
              "      <td>...</td>\n",
              "      <td>...</td>\n",
              "      <td>...</td>\n",
              "      <td>...</td>\n",
              "    </tr>\n",
              "    <tr>\n",
              "      <th>8744</th>\n",
              "      <td>31-Dec-2019 - 08:00</td>\n",
              "      <td>31-Dec-2019 - 09:00</td>\n",
              "      <td>221.0</td>\n",
              "      <td>194.50</td>\n",
              "      <td>212.00</td>\n",
              "      <td>200.0</td>\n",
              "      <td>190.38</td>\n",
              "      <td>191.25</td>\n",
              "      <td>180.25</td>\n",
              "      <td>152.62</td>\n",
              "      <td>218.50</td>\n",
              "      <td>217.75</td>\n",
              "      <td>197.00</td>\n",
              "      <td>177.75</td>\n",
              "      <td>214.0</td>\n",
              "      <td>135.73</td>\n",
              "      <td>166.00</td>\n",
              "      <td>177.50</td>\n",
              "      <td>221.00</td>\n",
              "      <td>243.50</td>\n",
              "      <td>199.25</td>\n",
              "      <td>162.75</td>\n",
              "      <td>193.50</td>\n",
              "      <td>133.00</td>\n",
              "      <td>212.25</td>\n",
              "      <td>167.82</td>\n",
              "      <td>199.50</td>\n",
              "      <td>178.75</td>\n",
              "      <td>181.50</td>\n",
              "      <td>195.75</td>\n",
              "      <td>263.0</td>\n",
              "    </tr>\n",
              "    <tr>\n",
              "      <th>8745</th>\n",
              "      <td>31-Dec-2019 - 09:00</td>\n",
              "      <td>31-Dec-2019 - 10:00</td>\n",
              "      <td>246.5</td>\n",
              "      <td>196.50</td>\n",
              "      <td>235.00</td>\n",
              "      <td>234.0</td>\n",
              "      <td>200.19</td>\n",
              "      <td>214.50</td>\n",
              "      <td>196.50</td>\n",
              "      <td>160.65</td>\n",
              "      <td>218.75</td>\n",
              "      <td>250.25</td>\n",
              "      <td>226.75</td>\n",
              "      <td>202.25</td>\n",
              "      <td>224.0</td>\n",
              "      <td>133.45</td>\n",
              "      <td>181.00</td>\n",
              "      <td>204.75</td>\n",
              "      <td>250.75</td>\n",
              "      <td>261.00</td>\n",
              "      <td>211.00</td>\n",
              "      <td>177.25</td>\n",
              "      <td>231.50</td>\n",
              "      <td>159.25</td>\n",
              "      <td>225.75</td>\n",
              "      <td>171.17</td>\n",
              "      <td>245.25</td>\n",
              "      <td>223.50</td>\n",
              "      <td>207.50</td>\n",
              "      <td>209.00</td>\n",
              "      <td>288.5</td>\n",
              "    </tr>\n",
              "    <tr>\n",
              "      <th>8746</th>\n",
              "      <td>31-Dec-2019 - 10:00</td>\n",
              "      <td>31-Dec-2019 - 11:00</td>\n",
              "      <td>289.0</td>\n",
              "      <td>190.75</td>\n",
              "      <td>244.50</td>\n",
              "      <td>257.0</td>\n",
              "      <td>233.52</td>\n",
              "      <td>221.50</td>\n",
              "      <td>222.25</td>\n",
              "      <td>143.65</td>\n",
              "      <td>256.50</td>\n",
              "      <td>243.50</td>\n",
              "      <td>215.75</td>\n",
              "      <td>206.00</td>\n",
              "      <td>266.0</td>\n",
              "      <td>144.02</td>\n",
              "      <td>194.50</td>\n",
              "      <td>252.00</td>\n",
              "      <td>236.75</td>\n",
              "      <td>244.50</td>\n",
              "      <td>199.00</td>\n",
              "      <td>208.50</td>\n",
              "      <td>255.75</td>\n",
              "      <td>166.50</td>\n",
              "      <td>255.00</td>\n",
              "      <td>206.02</td>\n",
              "      <td>283.25</td>\n",
              "      <td>260.00</td>\n",
              "      <td>222.25</td>\n",
              "      <td>209.25</td>\n",
              "      <td>286.0</td>\n",
              "    </tr>\n",
              "    <tr>\n",
              "      <th>8747</th>\n",
              "      <td>31-Dec-2019 - 11:00</td>\n",
              "      <td>31-Dec-2019 - 12:00</td>\n",
              "      <td>301.0</td>\n",
              "      <td>196.75</td>\n",
              "      <td>244.00</td>\n",
              "      <td>289.0</td>\n",
              "      <td>264.55</td>\n",
              "      <td>201.25</td>\n",
              "      <td>243.75</td>\n",
              "      <td>180.57</td>\n",
              "      <td>281.50</td>\n",
              "      <td>220.25</td>\n",
              "      <td>215.50</td>\n",
              "      <td>209.75</td>\n",
              "      <td>296.5</td>\n",
              "      <td>167.12</td>\n",
              "      <td>207.00</td>\n",
              "      <td>317.00</td>\n",
              "      <td>222.75</td>\n",
              "      <td>217.50</td>\n",
              "      <td>210.00</td>\n",
              "      <td>216.25</td>\n",
              "      <td>239.50</td>\n",
              "      <td>167.75</td>\n",
              "      <td>255.00</td>\n",
              "      <td>189.32</td>\n",
              "      <td>266.50</td>\n",
              "      <td>253.00</td>\n",
              "      <td>228.25</td>\n",
              "      <td>222.75</td>\n",
              "      <td>273.0</td>\n",
              "    </tr>\n",
              "    <tr>\n",
              "      <th>8748</th>\n",
              "      <td>31-Dec-2019 - 12:00</td>\n",
              "      <td>31-Dec-2019 - 13:00</td>\n",
              "      <td>296.0</td>\n",
              "      <td>199.00</td>\n",
              "      <td>245.00</td>\n",
              "      <td>345.0</td>\n",
              "      <td>306.33</td>\n",
              "      <td>199.00</td>\n",
              "      <td>252.00</td>\n",
              "      <td>204.20</td>\n",
              "      <td>307.00</td>\n",
              "      <td>218.00</td>\n",
              "      <td>226.00</td>\n",
              "      <td>221.00</td>\n",
              "      <td>296.5</td>\n",
              "      <td>171.24</td>\n",
              "      <td>213.00</td>\n",
              "      <td>296.00</td>\n",
              "      <td>219.00</td>\n",
              "      <td>207.00</td>\n",
              "      <td>243.00</td>\n",
              "      <td>208.00</td>\n",
              "      <td>229.00</td>\n",
              "      <td>167.00</td>\n",
              "      <td>255.00</td>\n",
              "      <td>241.96</td>\n",
              "      <td>252.00</td>\n",
              "      <td>241.00</td>\n",
              "      <td>208.00</td>\n",
              "      <td>234.00</td>\n",
              "      <td>279.0</td>\n",
              "    </tr>\n",
              "  </tbody>\n",
              "</table>\n",
              "<p>8749 rows × 31 columns</p>\n",
              "</div>"
            ],
            "text/plain": [
              "                 FromDate               ToDate  ...  Vivek_Vihar  Wazirpur\n",
              "0     01-Jan-2019 - 00:00  01-Jan-2019 - 01:00  ...       347.50     467.0\n",
              "1     01-Jan-2019 - 01:00  01-Jan-2019 - 02:00  ...       307.00     483.0\n",
              "2     01-Jan-2019 - 02:00  01-Jan-2019 - 03:00  ...       288.50     473.5\n",
              "3     01-Jan-2019 - 03:00  01-Jan-2019 - 04:00  ...       294.00     496.0\n",
              "4     01-Jan-2019 - 04:00  01-Jan-2019 - 05:00  ...       334.00     513.0\n",
              "...                   ...                  ...  ...          ...       ...\n",
              "8744  31-Dec-2019 - 08:00  31-Dec-2019 - 09:00  ...       195.75     263.0\n",
              "8745  31-Dec-2019 - 09:00  31-Dec-2019 - 10:00  ...       209.00     288.5\n",
              "8746  31-Dec-2019 - 10:00  31-Dec-2019 - 11:00  ...       209.25     286.0\n",
              "8747  31-Dec-2019 - 11:00  31-Dec-2019 - 12:00  ...       222.75     273.0\n",
              "8748  31-Dec-2019 - 12:00  31-Dec-2019 - 13:00  ...       234.00     279.0\n",
              "\n",
              "[8749 rows x 31 columns]"
            ]
          },
          "metadata": {
            "tags": []
          },
          "execution_count": 68
        }
      ]
    },
    {
      "cell_type": "code",
      "metadata": {
        "id": "yt76wsX2f0Mc",
        "colab_type": "code",
        "colab": {}
      },
      "source": [
        "min_max_scaler = preprocessing.MinMaxScaler()\n",
        "pm_data_scaled = min_max_scaler.fit_transform(pm_data.drop(labels=['FromDate','ToDate'],axis=1))\n",
        "pm_data_normalized = pd.DataFrame(pm_data_scaled)"
      ],
      "execution_count": null,
      "outputs": []
    },
    {
      "cell_type": "code",
      "metadata": {
        "id": "WWhkoMigYCLK",
        "colab_type": "code",
        "colab": {
          "base_uri": "https://localhost:8080/",
          "height": 313
        },
        "outputId": "41f30bf8-ff5c-4cbf-ad69-61642f7bfc03"
      },
      "source": [
        "plt.xlabel(\"1 year PM2.5 data (ug/m3) at a station\")\n",
        "plt.plot(pm_data['Alipur'], 'b')\n",
        "plt.figure()"
      ],
      "execution_count": null,
      "outputs": [
        {
          "output_type": "execute_result",
          "data": {
            "text/plain": [
              "<Figure size 432x288 with 0 Axes>"
            ]
          },
          "metadata": {
            "tags": []
          },
          "execution_count": 70
        },
        {
          "output_type": "display_data",
          "data": {
            "image/png": "[encoded data removed]",
            "text/plain": [
              "<Figure size 432x288 with 1 Axes>"
            ]
          },
          "metadata": {
            "tags": [],
            "needs_background": "light"
          }
        },
        {
          "output_type": "display_data",
          "data": {
            "text/plain": [
              "<Figure size 432x288 with 0 Axes>"
            ]
          },
          "metadata": {
            "tags": []
          }
        }
      ]
    },
    {
      "cell_type": "code",
      "metadata": {
        "colab_type": "code",
        "id": "mPSewfuLYUnl",
        "colab": {}
      },
      "source": [
        "min_max_scaler = preprocessing.MinMaxScaler()\n",
        "pm_data_scaled = min_max_scaler.fit_transform(pm_data.drop(labels=['FromDate','ToDate'],axis=1))\n",
        "pm_data_normalized = pd.DataFrame(pm_data_scaled)"
      ],
      "execution_count": null,
      "outputs": []
    },
    {
      "cell_type": "code",
      "metadata": {
        "colab_type": "code",
        "id": "22O47uQkYTm7",
        "colab": {}
      },
      "source": [
        "min_max_scaler = preprocessing.MinMaxScaler()\n",
        "pm_data_scaled = min_max_scaler.fit_transform(pm_data.drop(labels=['FromDate','ToDate'],axis=1))\n",
        "pm_data_normalized = pd.DataFrame(pm_data_scaled)"
      ],
      "execution_count": null,
      "outputs": []
    },
    {
      "cell_type": "code",
      "metadata": {
        "id": "ck0vvp1ZjG_8",
        "colab_type": "code",
        "colab": {
          "base_uri": "https://localhost:8080/",
          "height": 34
        },
        "outputId": "a482be88-b5f5-459a-ea35-b8079159a9b2"
      },
      "source": [
        "pm_data_normalized.shape"
      ],
      "execution_count": null,
      "outputs": [
        {
          "output_type": "execute_result",
          "data": {
            "text/plain": [
              "(8749, 29)"
            ]
          },
          "metadata": {
            "tags": []
          },
          "execution_count": 73
        }
      ]
    },
    {
      "cell_type": "code",
      "metadata": {
        "id": "4q5em7-8n-1n",
        "colab_type": "code",
        "colab": {
          "base_uri": "https://localhost:8080/",
          "height": 54
        },
        "outputId": "f146e248-8fa0-4b58-f0d2-2064ec82006f"
      },
      "source": [
        "index_val = []\n",
        "for i in range(pm_data_normalized.shape[1]):\n",
        "  index1 = []\n",
        "  for j in range(pm_data_normalized.shape[1]):\n",
        "    if i != j:\n",
        "      a = ((data['Latitude'][i]-data['Latitude'][j])**2)\n",
        "      b = ((data['Longitude'][i]-data['Longitude'][j])**2)\n",
        "      ans = (a+b)**0.5\n",
        "      index1.append(ans)\n",
        "  i1=0\n",
        "  val = [i]\n",
        "  index2 = copy.copy(index1)\n",
        "  while(i1<3):\n",
        "    val.append(index1.index(max(index2)))\n",
        "    index2.remove(max(index2))\n",
        "    i1 += 1\n",
        "  index_val.append(val)\n",
        "print(index_val)"
      ],
      "execution_count": null,
      "outputs": [
        {
          "output_type": "stream",
          "text": [
            "[[0, 4, 13, 16], [1, 13, 2, 12], [2, 13, 4, 16], [3, 4, 16, 1], [4, 4, 16, 13], [5, 14, 3, 13], [6, 26, 0, 1], [7, 13, 12, 3], [8, 13, 5, 16], [9, 13, 14, 3], [10, 13, 14, 3], [11, 13, 14, 3], [12, 5, 16, 1], [13, 26, 1, 7], [14, 26, 1, 7], [15, 5, 16, 25], [16, 14, 15, 3], [17, 14, 15, 3], [18, 14, 3, 15], [19, 15, 0, 14], [20, 14, 15, 5], [21, 14, 5, 17], [22, 5, 17, 14], [23, 14, 5, 15], [24, 15, 14, 3], [25, 14, 13, 6], [26, 15, 0, 3], [27, 14, 13, 3], [28, 14, 5, 17]]\n"
          ],
          "name": "stdout"
        }
      ]
    },
    {
      "cell_type": "code",
      "metadata": {
        "id": "WLLEkxPqpqXi",
        "colab_type": "code",
        "colab": {
          "base_uri": "https://localhost:8080/",
          "height": 131
        },
        "outputId": "bdfcc417-8533-40e1-fb90-3c7831827409"
      },
      "source": [
        "pm_data_normalized.head(2)"
      ],
      "execution_count": null,
      "outputs": [
        {
          "output_type": "execute_result",
          "data": {
            "text/html": [
              "<div>\n",
              "<style scoped>\n",
              "    .dataframe tbody tr th:only-of-type {\n",
              "        vertical-align: middle;\n",
              "    }\n",
              "\n",
              "    .dataframe tbody tr th {\n",
              "        vertical-align: top;\n",
              "    }\n",
              "\n",
              "    .dataframe thead th {\n",
              "        text-align: right;\n",
              "    }\n",
              "</style>\n",
              "<table border=\"1\" class=\"dataframe\">\n",
              "  <thead>\n",
              "    <tr style=\"text-align: right;\">\n",
              "      <th></th>\n",
              "      <th>0</th>\n",
              "      <th>1</th>\n",
              "      <th>2</th>\n",
              "      <th>3</th>\n",
              "      <th>4</th>\n",
              "      <th>5</th>\n",
              "      <th>6</th>\n",
              "      <th>7</th>\n",
              "      <th>8</th>\n",
              "      <th>9</th>\n",
              "      <th>10</th>\n",
              "      <th>11</th>\n",
              "      <th>12</th>\n",
              "      <th>13</th>\n",
              "      <th>14</th>\n",
              "      <th>15</th>\n",
              "      <th>16</th>\n",
              "      <th>17</th>\n",
              "      <th>18</th>\n",
              "      <th>19</th>\n",
              "      <th>20</th>\n",
              "      <th>21</th>\n",
              "      <th>22</th>\n",
              "      <th>23</th>\n",
              "      <th>24</th>\n",
              "      <th>25</th>\n",
              "      <th>26</th>\n",
              "      <th>27</th>\n",
              "      <th>28</th>\n",
              "    </tr>\n",
              "  </thead>\n",
              "  <tbody>\n",
              "    <tr>\n",
              "      <th>0</th>\n",
              "      <td>0.362809</td>\n",
              "      <td>0.549348</td>\n",
              "      <td>0.420010</td>\n",
              "      <td>0.122967</td>\n",
              "      <td>0.360474</td>\n",
              "      <td>0.372093</td>\n",
              "      <td>0.545914</td>\n",
              "      <td>0.334132</td>\n",
              "      <td>0.417424</td>\n",
              "      <td>0.700230</td>\n",
              "      <td>0.361922</td>\n",
              "      <td>0.40873</td>\n",
              "      <td>0.483690</td>\n",
              "      <td>0.689431</td>\n",
              "      <td>0.205347</td>\n",
              "      <td>0.304652</td>\n",
              "      <td>0.746818</td>\n",
              "      <td>0.557927</td>\n",
              "      <td>0.466175</td>\n",
              "      <td>0.507338</td>\n",
              "      <td>0.429703</td>\n",
              "      <td>0.748288</td>\n",
              "      <td>0.424686</td>\n",
              "      <td>0.449292</td>\n",
              "      <td>0.44671</td>\n",
              "      <td>0.539136</td>\n",
              "      <td>0.275354</td>\n",
              "      <td>0.363019</td>\n",
              "      <td>0.480829</td>\n",
              "    </tr>\n",
              "    <tr>\n",
              "      <th>1</th>\n",
              "      <td>0.349166</td>\n",
              "      <td>0.564246</td>\n",
              "      <td>0.480195</td>\n",
              "      <td>0.133130</td>\n",
              "      <td>0.387070</td>\n",
              "      <td>0.322481</td>\n",
              "      <td>0.451278</td>\n",
              "      <td>0.319863</td>\n",
              "      <td>0.405051</td>\n",
              "      <td>0.779056</td>\n",
              "      <td>0.378714</td>\n",
              "      <td>0.40582</td>\n",
              "      <td>0.404689</td>\n",
              "      <td>0.635911</td>\n",
              "      <td>0.217751</td>\n",
              "      <td>0.280830</td>\n",
              "      <td>0.645546</td>\n",
              "      <td>0.558481</td>\n",
              "      <td>0.480417</td>\n",
              "      <td>0.527581</td>\n",
              "      <td>0.486452</td>\n",
              "      <td>0.666096</td>\n",
              "      <td>0.419456</td>\n",
              "      <td>0.534610</td>\n",
              "      <td>0.41471</td>\n",
              "      <td>0.692433</td>\n",
              "      <td>0.315703</td>\n",
              "      <td>0.320710</td>\n",
              "      <td>0.497409</td>\n",
              "    </tr>\n",
              "  </tbody>\n",
              "</table>\n",
              "</div>"
            ],
            "text/plain": [
              "         0         1         2   ...        26        27        28\n",
              "0  0.362809  0.549348  0.420010  ...  0.275354  0.363019  0.480829\n",
              "1  0.349166  0.564246  0.480195  ...  0.315703  0.320710  0.497409\n",
              "\n",
              "[2 rows x 29 columns]"
            ]
          },
          "metadata": {
            "tags": []
          },
          "execution_count": 75
        }
      ]
    },
    {
      "cell_type": "code",
      "metadata": {
        "id": "9k2b-6yXChqs",
        "colab_type": "code",
        "colab": {
          "base_uri": "https://localhost:8080/",
          "height": 51
        },
        "outputId": "949085ca-12de-4f45-a821-1be13d40b9db"
      },
      "source": [
        "train_size = int(len(pm_data_normalized) * 0.9)\n",
        "print(train_size)\n",
        "train, test = pm_data_normalized.iloc[0:train_size], pm_data_normalized.iloc[train_size:len(pm_data_normalized)]\n",
        "print(len(train), len(test))"
      ],
      "execution_count": null,
      "outputs": [
        {
          "output_type": "stream",
          "text": [
            "7874\n",
            "7874 875\n"
          ],
          "name": "stdout"
        }
      ]
    },
    {
      "cell_type": "code",
      "metadata": {
        "id": "fvp-VxBFFBSd",
        "colab_type": "code",
        "colab": {
          "base_uri": "https://localhost:8080/",
          "height": 34
        },
        "outputId": "13c85a84-da31-4d6a-8aeb-282826a0cbed"
      },
      "source": [
        "len(pm_data_normalized)"
      ],
      "execution_count": null,
      "outputs": [
        {
          "output_type": "execute_result",
          "data": {
            "text/plain": [
              "8749"
            ]
          },
          "metadata": {
            "tags": []
          },
          "execution_count": 77
        }
      ]
    },
    {
      "cell_type": "code",
      "metadata": {
        "id": "ihdgB2weCrcs",
        "colab_type": "code",
        "colab": {}
      },
      "source": [
        "train_data = []\n",
        "test_data = []\n",
        "for i in range(train.shape[1]):\n",
        "  train_data.append(list(train[i].to_numpy()))\n",
        "  test_data.append(list(test[i].to_numpy()))"
      ],
      "execution_count": null,
      "outputs": []
    },
    {
      "cell_type": "code",
      "metadata": {
        "id": "lUbW1dmusRp4",
        "colab_type": "code",
        "colab": {}
      },
      "source": [
        "train_x = []\n",
        "train_y = []"
      ],
      "execution_count": null,
      "outputs": []
    },
    {
      "cell_type": "code",
      "metadata": {
        "id": "34feW-jgBojx",
        "colab_type": "code",
        "colab": {}
      },
      "source": [
        "window=24\n",
        "for i in range(len(train_data[0])-window):\n",
        "  train_tempX = []\n",
        "  train_tempY = []\n",
        "  for j in range(train.shape[1]):\n",
        "    train_tempx = []\n",
        "    train_tempy = []\n",
        "    for k in range(len(index_val[0])):\n",
        "      train_tempx.append(train_data[index_val[j][k]][i:i+window-1])\n",
        "    train_tempX.append(train_tempx)\n",
        "    train_tempY.append(train_data[j][i+window])\n",
        "  train_x.append(train_tempX)\n",
        "  train_y.append(train_tempY)"
      ],
      "execution_count": null,
      "outputs": []
    },
    {
      "cell_type": "code",
      "metadata": {
        "id": "ykVtaT5BCDLh",
        "colab_type": "code",
        "colab": {}
      },
      "source": [
        "train_X = np.array(train_x)\n",
        "train_Y = np.array(train_y)"
      ],
      "execution_count": null,
      "outputs": []
    },
    {
      "cell_type": "code",
      "metadata": {
        "id": "0piZInaCHlkD",
        "colab_type": "code",
        "colab": {
          "base_uri": "https://localhost:8080/",
          "height": 51
        },
        "outputId": "00d518e4-c6a7-4a16-f57f-2878ed9293ab"
      },
      "source": [
        "print(train_X.shape)\n",
        "print(train_Y.shape)"
      ],
      "execution_count": null,
      "outputs": [
        {
          "output_type": "stream",
          "text": [
            "(7850, 29, 4, 23)\n",
            "(7850, 29)\n"
          ],
          "name": "stdout"
        }
      ]
    },
    {
      "cell_type": "code",
      "metadata": {
        "id": "_yTUgu0MIMZA",
        "colab_type": "code",
        "colab": {}
      },
      "source": [
        "test_x = []\n",
        "test_y = []\n",
        "window=24\n",
        "for i in range(len(test_data[0])-window):\n",
        "  test_tempX = []\n",
        "  test_tempY = []\n",
        "  for j in range(test.shape[1]):\n",
        "    test_tempx = []\n",
        "    test_tempy = []\n",
        "    for k in range(len(index_val[0])):\n",
        "      test_tempx.append(test_data[index_val[j][k]][i:i+window-1])\n",
        "    test_tempX.append(test_tempx)\n",
        "    test_tempY.append(test_data[j][i+window])\n",
        "  test_x.append(test_tempX)\n",
        "  test_y.append(test_tempY)"
      ],
      "execution_count": null,
      "outputs": []
    },
    {
      "cell_type": "code",
      "metadata": {
        "id": "xuEwx1JLPJ9U",
        "colab_type": "code",
        "colab": {}
      },
      "source": [
        "test_X = np.array(test_x)\n",
        "test_Y = np.array(test_y)"
      ],
      "execution_count": null,
      "outputs": []
    },
    {
      "cell_type": "code",
      "metadata": {
        "id": "McFLYjJ0PQpC",
        "colab_type": "code",
        "colab": {
          "base_uri": "https://localhost:8080/",
          "height": 51
        },
        "outputId": "1b876522-53ad-42dd-d1da-2a1031382325"
      },
      "source": [
        "print(test_X.shape)\n",
        "print(test_Y.shape)"
      ],
      "execution_count": null,
      "outputs": [
        {
          "output_type": "stream",
          "text": [
            "(851, 29, 4, 23)\n",
            "(851, 29)\n"
          ],
          "name": "stdout"
        }
      ]
    },
    {
      "cell_type": "code",
      "metadata": {
        "id": "DlnS3fEZPZR7",
        "colab_type": "code",
        "colab": {
          "base_uri": "https://localhost:8080/",
          "height": 51
        },
        "outputId": "ff453b28-76cc-40b4-d6af-74774f5f4cd4"
      },
      "source": [
        "train_x1 = []\n",
        "train_y1 = []\n",
        "window=24\n",
        "for i in range(len(train_data[0])-window):\n",
        "  train_tempX = []\n",
        "  train_tempY = []\n",
        "  for j in range(train.shape[1]):\n",
        "    train_tempX.append(train_data[j][i:i+window-1])\n",
        "    train_tempY.append(train_data[j][i+window])\n",
        "  train_x1.append(train_tempX)\n",
        "  train_y1.append(train_tempY)\n",
        "train_X_2d = np.array(train_x1)\n",
        "train_Y_2d = np.array(train_y1)\n",
        "print(train_X_2d.shape)\n",
        "print(train_Y_2d.shape)"
      ],
      "execution_count": null,
      "outputs": [
        {
          "output_type": "stream",
          "text": [
            "(7850, 29, 23)\n",
            "(7850, 29)\n"
          ],
          "name": "stdout"
        }
      ]
    },
    {
      "cell_type": "code",
      "metadata": {
        "id": "Ht0_ACLWa7yg",
        "colab_type": "code",
        "colab": {
          "base_uri": "https://localhost:8080/",
          "height": 51
        },
        "outputId": "8741399b-43df-42a2-dc49-6a3bd86f1940"
      },
      "source": [
        "test_x1 = []\n",
        "test_y1 = []\n",
        "window=24\n",
        "for i in range(len(test_data[0])-window):\n",
        "  test_tempX = []\n",
        "  test_tempY = []\n",
        "  for j in range(test.shape[1]):\n",
        "    test_tempX.append(test_data[j][i:i+window-1])\n",
        "    test_tempY.append(test_data[j][i+window])\n",
        "  test_x1.append(test_tempX)\n",
        "  test_y1.append(test_tempY)\n",
        "test_X_2d = np.array(test_x1)\n",
        "test_Y_2d = np.array(test_y1)\n",
        "print(test_X_2d.shape)\n",
        "print(test_Y_2d.shape)"
      ],
      "execution_count": null,
      "outputs": [
        {
          "output_type": "stream",
          "text": [
            "(851, 29, 23)\n",
            "(851, 29)\n"
          ],
          "name": "stdout"
        }
      ]
    },
    {
      "cell_type": "code",
      "metadata": {
        "id": "V3s0lLmmdSKz",
        "colab_type": "code",
        "colab": {}
      },
      "source": [
        "rh_data = pd.read_excel('RH.xlsx')"
      ],
      "execution_count": null,
      "outputs": []
    },
    {
      "cell_type": "code",
      "metadata": {
        "id": "gZ8RvekywT2f",
        "colab_type": "code",
        "colab": {}
      },
      "source": [
        "min_max_scaler = preprocessing.MinMaxScaler()\n",
        "rh_data_scaled = min_max_scaler.fit_transform(rh_data.drop(labels=['FromDate','ToDate'],axis=1))\n",
        "rh_data_normalized = pd.DataFrame(rh_data_scaled)"
      ],
      "execution_count": null,
      "outputs": []
    },
    {
      "cell_type": "code",
      "metadata": {
        "id": "m9lNbUbbwd1B",
        "colab_type": "code",
        "colab": {
          "base_uri": "https://localhost:8080/",
          "height": 34
        },
        "outputId": "dc9cc1db-2a66-4dc6-eef7-bcc5f7a2a2f8"
      },
      "source": [
        "train_size = int(len(rh_data_normalized[0]) * 0.9)\n",
        "rh_train = []\n",
        "rh_test = []\n",
        "for i in range(train_size-24):\n",
        "  rh_train1 = rh_data_normalized.iloc[i:i+23]\n",
        "  rh_train1 = rh_train1.sum()/23\n",
        "  rh_train.append(rh_train1)\n",
        "\n",
        "for i in range(train_size,len(rh_data_normalized)-24):\n",
        "  rh_test1 =  rh_data_normalized.iloc[i:i+23]\n",
        "  rh_test1 = rh_test1.sum()/23\n",
        "  rh_test.append(rh_test1)\n",
        "\n",
        "rh_train = np.array(rh_train)\n",
        "rh_test = np.array(rh_test)\n",
        "\n",
        "print(rh_train.shape, rh_test.shape)"
      ],
      "execution_count": null,
      "outputs": [
        {
          "output_type": "stream",
          "text": [
            "(7850, 29) (851, 29)\n"
          ],
          "name": "stdout"
        }
      ]
    },
    {
      "cell_type": "code",
      "metadata": {
        "id": "avJ-mUZjwxa-",
        "colab_type": "code",
        "colab": {}
      },
      "source": [
        "ws_data = pd.read_excel('ws.xlsx')"
      ],
      "execution_count": null,
      "outputs": []
    },
    {
      "cell_type": "code",
      "metadata": {
        "id": "qe7JISWnxJw4",
        "colab_type": "code",
        "colab": {}
      },
      "source": [
        "min_max_scaler = preprocessing.MinMaxScaler()\n",
        "ws_data_scaled = min_max_scaler.fit_transform(ws_data.drop(labels=['FromDate','ToDate'],axis=1))\n",
        "ws_data_normalized = pd.DataFrame(ws_data_scaled)"
      ],
      "execution_count": null,
      "outputs": []
    },
    {
      "cell_type": "code",
      "metadata": {
        "id": "rLxqrtHnxOQq",
        "colab_type": "code",
        "colab": {
          "base_uri": "https://localhost:8080/",
          "height": 34
        },
        "outputId": "7dbc06c0-d963-48f1-a50e-a39fba81fc4e"
      },
      "source": [
        "train_size = int(len(ws_data_normalized[0]) * 0.9)\n",
        "ws_train = []\n",
        "ws_test = []\n",
        "for i in range(train_size-24):\n",
        "  ws_train1 = ws_data_normalized.iloc[i:i+23]\n",
        "  ws_train1 = ws_train1.sum()/23\n",
        "  ws_train.append(ws_train1)\n",
        "\n",
        "for i in range(train_size,len(ws_data_normalized)-24):\n",
        "  ws_test1 =  ws_data_normalized.iloc[i:i+23]\n",
        "  ws_test1 = ws_test1.sum()/23\n",
        "  ws_test.append(ws_test1)\n",
        "\n",
        "ws_train = np.array(ws_train)\n",
        "ws_test = np.array(ws_test)\n",
        "\n",
        "print(ws_train.shape, ws_test.shape)"
      ],
      "execution_count": null,
      "outputs": [
        {
          "output_type": "stream",
          "text": [
            "(7850, 29) (851, 29)\n"
          ],
          "name": "stdout"
        }
      ]
    },
    {
      "cell_type": "code",
      "metadata": {
        "id": "rmmZfJ1sMb09",
        "colab_type": "code",
        "colab": {
          "base_uri": "https://localhost:8080/",
          "height": 592
        },
        "outputId": "d0c6d68d-53ac-4512-9e01-fb708db3b9eb"
      },
      "source": [
        "plt.xlabel(\"1 year Relative Humidity data at a station\")\n",
        "plt.plot(rh_data_normalized[2], 'b')\n",
        "plt.figure()\n",
        "print()\n",
        "plt.xlabel(\"1 year Wind Speed data at a station\")\n",
        "plt.plot(ws_data_normalized[2], 'b')\n",
        "plt.figure()"
      ],
      "execution_count": null,
      "outputs": [
        {
          "output_type": "stream",
          "text": [
            "\n"
          ],
          "name": "stdout"
        },
        {
          "output_type": "execute_result",
          "data": {
            "text/plain": [
              "<Figure size 432x288 with 0 Axes>"
            ]
          },
          "metadata": {
            "tags": []
          },
          "execution_count": 94
        },
        {
          "output_type": "display_data",
          "data": {
            "image/png": "[encoded data removed]",
            "text/plain": [
              "<Figure size 432x288 with 1 Axes>"
            ]
          },
          "metadata": {
            "tags": [],
            "needs_background": "light"
          }
        },
        {
          "output_type": "display_data",
          "data": {
            "image/png": "[encoded data removed]",
            "text/plain": [
              "<Figure size 432x288 with 1 Axes>"
            ]
          },
          "metadata": {
            "tags": [],
            "needs_background": "light"
          }
        },
        {
          "output_type": "display_data",
          "data": {
            "text/plain": [
              "<Figure size 432x288 with 0 Axes>"
            ]
          },
          "metadata": {
            "tags": []
          }
        }
      ]
    },
    {
      "cell_type": "code",
      "metadata": {
        "id": "bdPJoaR-NiTU",
        "colab_type": "code",
        "colab": {
          "base_uri": "https://localhost:8080/",
          "height": 299
        },
        "outputId": "52289355-b64b-4a73-a43f-ca348b053f49"
      },
      "source": [
        "plt.plot(ws_data_normalized[2], 'b')\n",
        "plt.figure()"
      ],
      "execution_count": null,
      "outputs": [
        {
          "output_type": "execute_result",
          "data": {
            "text/plain": [
              "<Figure size 432x288 with 0 Axes>"
            ]
          },
          "metadata": {
            "tags": []
          },
          "execution_count": 95
        },
        {
          "output_type": "display_data",
          "data": {
            "image/png": "[encoded data removed]",
            "text/plain": [
              "<Figure size 432x288 with 1 Axes>"
            ]
          },
          "metadata": {
            "tags": [],
            "needs_background": "light"
          }
        },
        {
          "output_type": "display_data",
          "data": {
            "text/plain": [
              "<Figure size 432x288 with 0 Axes>"
            ]
          },
          "metadata": {
            "tags": []
          }
        }
      ]
    },
    {
      "cell_type": "code",
      "metadata": {
        "id": "w1EmypHYULu3",
        "colab_type": "code",
        "colab": {
          "base_uri": "https://localhost:8080/",
          "height": 313
        },
        "outputId": "d2b94871-4a3e-4ce5-c286-187c879454d9"
      },
      "source": [
        "plt.xlabel(\"1 year PM2.5 normalized data at a station\")\n",
        "plt.plot(pm_data_normalized[0], 'b')\n",
        "plt.figure()"
      ],
      "execution_count": null,
      "outputs": [
        {
          "output_type": "execute_result",
          "data": {
            "text/plain": [
              "<Figure size 432x288 with 0 Axes>"
            ]
          },
          "metadata": {
            "tags": []
          },
          "execution_count": 96
        },
        {
          "output_type": "display_data",
          "data": {
            "image/png": "[encoded data removed]",
            "text/plain": [
              "<Figure size 432x288 with 1 Axes>"
            ]
          },
          "metadata": {
            "tags": [],
            "needs_background": "light"
          }
        },
        {
          "output_type": "display_data",
          "data": {
            "text/plain": [
              "<Figure size 432x288 with 0 Axes>"
            ]
          },
          "metadata": {
            "tags": []
          }
        }
      ]
    },
    {
      "cell_type": "code",
      "metadata": {
        "id": "lEQVvWjZX4QA",
        "colab_type": "code",
        "colab": {
          "base_uri": "https://localhost:8080/",
          "height": 561
        },
        "outputId": "64b71a31-ffd2-4ddc-a5b5-1b2a3fa7f853"
      },
      "source": [
        "#[0, 4, 13, 16]\n",
        "plt.xlabel(\"1 year PM2.5 normalized data at a station\")\n",
        "plt.plot(pm_data_normalized[0], 'b')\n",
        "plt.figure()\n",
        "plt.plot(pm_data_normalized[4], 'b')\n",
        "plt.figure()\n",
        "#plt.plot(pm_data_normalized[13], 'b')\n",
        "#plt.figure()\n",
        "#plt.plot(pm_data_normalized[16], 'b')\n",
        "#plt.figure()"
      ],
      "execution_count": null,
      "outputs": [
        {
          "output_type": "execute_result",
          "data": {
            "text/plain": [
              "<Figure size 432x288 with 0 Axes>"
            ]
          },
          "metadata": {
            "tags": []
          },
          "execution_count": 106
        },
        {
          "output_type": "display_data",
          "data": {
            "image/png": "[encoded data removed]",
            "text/plain": [
              "<Figure size 432x288 with 1 Axes>"
            ]
          },
          "metadata": {
            "tags": [],
            "needs_background": "light"
          }
        },
        {
          "output_type": "display_data",
          "data": {
            "image/png": "[encoded data removed]",
            "text/plain": [
              "<Figure size 432x288 with 1 Axes>"
            ]
          },
          "metadata": {
            "tags": [],
            "needs_background": "light"
          }
        },
        {
          "output_type": "display_data",
          "data": {
            "text/plain": [
              "<Figure size 432x288 with 0 Axes>"
            ]
          },
          "metadata": {
            "tags": []
          }
        }
      ]
    },
    {
      "cell_type": "code",
      "metadata": {
        "id": "bP8uOGfUeU38",
        "colab_type": "code",
        "colab": {}
      },
      "source": [
        ""
      ],
      "execution_count": null,
      "outputs": []
    }
  ]
}