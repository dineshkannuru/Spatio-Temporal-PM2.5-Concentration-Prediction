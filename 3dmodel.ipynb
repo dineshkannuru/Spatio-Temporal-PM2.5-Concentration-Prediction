{
  "nbformat": 4,
  "nbformat_minor": 0,
  "metadata": {
    "colab": {
      "name": "3dmodel.ipynb",
      "provenance": [],
      "collapsed_sections": []
    },
    "kernelspec": {
      "name": "python3",
      "display_name": "Python 3"
    }
  },
  "cells": [
    {
      "cell_type": "code",
      "metadata": {
        "id": "CPw9Z3F4fAtq",
        "colab_type": "code",
        "colab": {}
      },
      "source": [
        "import pandas as pd\n",
        "import numpy as np\n",
        "import matplotlib.pyplot as plt\n",
        "from sklearn import preprocessing\n",
        "import tensorflow as tf\n",
        "import copy"
      ],
      "execution_count": null,
      "outputs": []
    },
    {
      "cell_type": "code",
      "metadata": {
        "id": "CZkfInDBTtdj",
        "colab_type": "code",
        "colab": {
          "base_uri": "https://localhost:8080/",
          "height": 125
        },
        "outputId": "0ee4a28e-91ed-41b3-e57f-c0b36d95869d"
      },
      "source": [
        "from google.colab import drive\n",
        "drive.mount('/content/drive')"
      ],
      "execution_count": null,
      "outputs": [
        {
          "output_type": "stream",
          "text": [
            "Go to this URL in a browser: https://accounts.google.com/o/oauth2/auth?client_id=947318989803-6bn6qk8qdgf4n4g3pfee6491hc0brc4i.apps.googleusercontent.com&redirect_uri=urn%3aietf%3awg%3aoauth%3a2.0%3aoob&response_type=code&scope=email%20https%3a%2f%2fwww.googleapis.com%2fauth%2fdocs.test%20https%3a%2f%2fwww.googleapis.com%2fauth%2fdrive%20https%3a%2f%2fwww.googleapis.com%2fauth%2fdrive.photos.readonly%20https%3a%2f%2fwww.googleapis.com%2fauth%2fpeopleapi.readonly\n",
            "\n",
            "Enter your authorization code:\n",
            "··········\n",
            "Mounted at /content/drive\n"
          ],
          "name": "stdout"
        }
      ]
    },
    {
      "cell_type": "code",
      "metadata": {
        "id": "Ai6m_wlefblQ",
        "colab_type": "code",
        "colab": {}
      },
      "source": [
        "data = pd.read_excel('drive/My Drive/btp/station_locations.xlsx')\n",
        "ws_data = pd.read_excel('drive/My Drive/btp/ws.xlsx')"
      ],
      "execution_count": null,
      "outputs": []
    },
    {
      "cell_type": "code",
      "metadata": {
        "id": "tqmbLn7HfjNH",
        "colab_type": "code",
        "colab": {
          "base_uri": "https://localhost:8080/",
          "height": 203
        },
        "outputId": "2e400826-8a4c-47cb-bc93-2083b48e5384"
      },
      "source": [
        "data.head()"
      ],
      "execution_count": null,
      "outputs": [
        {
          "output_type": "execute_result",
          "data": {
            "text/html": [
              "<div>\n",
              "<style scoped>\n",
              "    .dataframe tbody tr th:only-of-type {\n",
              "        vertical-align: middle;\n",
              "    }\n",
              "\n",
              "    .dataframe tbody tr th {\n",
              "        vertical-align: top;\n",
              "    }\n",
              "\n",
              "    .dataframe thead th {\n",
              "        text-align: right;\n",
              "    }\n",
              "</style>\n",
              "<table border=\"1\" class=\"dataframe\">\n",
              "  <thead>\n",
              "    <tr style=\"text-align: right;\">\n",
              "      <th></th>\n",
              "      <th>Station Name</th>\n",
              "      <th>Latitude</th>\n",
              "      <th>Longitude</th>\n",
              "    </tr>\n",
              "  </thead>\n",
              "  <tbody>\n",
              "    <tr>\n",
              "      <th>0</th>\n",
              "      <td>Alipur</td>\n",
              "      <td>28.815329</td>\n",
              "      <td>77.153010</td>\n",
              "    </tr>\n",
              "    <tr>\n",
              "      <th>1</th>\n",
              "      <td>Anand_Vihar</td>\n",
              "      <td>28.646835</td>\n",
              "      <td>77.316032</td>\n",
              "    </tr>\n",
              "    <tr>\n",
              "      <th>2</th>\n",
              "      <td>Ashok_Vihar</td>\n",
              "      <td>28.695381</td>\n",
              "      <td>77.181665</td>\n",
              "    </tr>\n",
              "    <tr>\n",
              "      <th>3</th>\n",
              "      <td>Bawana</td>\n",
              "      <td>28.776200</td>\n",
              "      <td>77.051074</td>\n",
              "    </tr>\n",
              "    <tr>\n",
              "      <th>4</th>\n",
              "      <td>DTU</td>\n",
              "      <td>28.750050</td>\n",
              "      <td>77.111261</td>\n",
              "    </tr>\n",
              "  </tbody>\n",
              "</table>\n",
              "</div>"
            ],
            "text/plain": [
              "  Station Name   Latitude  Longitude\n",
              "0       Alipur  28.815329  77.153010\n",
              "1  Anand_Vihar  28.646835  77.316032\n",
              "2  Ashok_Vihar  28.695381  77.181665\n",
              "3       Bawana  28.776200  77.051074\n",
              "4          DTU  28.750050  77.111261"
            ]
          },
          "metadata": {
            "tags": []
          },
          "execution_count": 4
        }
      ]
    },
    {
      "cell_type": "code",
      "metadata": {
        "id": "PHWSzG-JfkqZ",
        "colab_type": "code",
        "colab": {}
      },
      "source": [
        "pm_data = pd.read_excel('drive/My Drive/btp/pm2.xlsx')"
      ],
      "execution_count": null,
      "outputs": []
    },
    {
      "cell_type": "code",
      "metadata": {
        "id": "JRFqNBoOfxrV",
        "colab_type": "code",
        "colab": {
          "base_uri": "https://localhost:8080/",
          "height": 479
        },
        "outputId": "dc575647-c792-49ab-8252-724b6a5f38da"
      },
      "source": [
        "pm_data.head()"
      ],
      "execution_count": null,
      "outputs": [
        {
          "output_type": "execute_result",
          "data": {
            "text/html": [
              "<div>\n",
              "<style scoped>\n",
              "    .dataframe tbody tr th:only-of-type {\n",
              "        vertical-align: middle;\n",
              "    }\n",
              "\n",
              "    .dataframe tbody tr th {\n",
              "        vertical-align: top;\n",
              "    }\n",
              "\n",
              "    .dataframe thead th {\n",
              "        text-align: right;\n",
              "    }\n",
              "</style>\n",
              "<table border=\"1\" class=\"dataframe\">\n",
              "  <thead>\n",
              "    <tr style=\"text-align: right;\">\n",
              "      <th></th>\n",
              "      <th>FromDate</th>\n",
              "      <th>ToDate</th>\n",
              "      <th>Alipur</th>\n",
              "      <th>Anand_Vihar</th>\n",
              "      <th>Ashok_Vihar</th>\n",
              "      <th>Bawana</th>\n",
              "      <th>DTU</th>\n",
              "      <th>Dr_Karni_Singh_Shooting_Range</th>\n",
              "      <th>Dwarka_Sector_8</th>\n",
              "      <th>IHBAS</th>\n",
              "      <th>Jahangirpuri</th>\n",
              "      <th>Jawaharlal_Nehru_Stadium</th>\n",
              "      <th>Major_Dhyan_Chand_National_Stadium</th>\n",
              "      <th>Mandir_Marg</th>\n",
              "      <th>Mundka</th>\n",
              "      <th>NSIT_Dwarka</th>\n",
              "      <th>Najafgarh</th>\n",
              "      <th>Narela</th>\n",
              "      <th>Nehru_Nagar</th>\n",
              "      <th>Okhla_Phase_2</th>\n",
              "      <th>Patparganj</th>\n",
              "      <th>Punjabi_Bagh</th>\n",
              "      <th>Pusa_Delhi_DPCC</th>\n",
              "      <th>RK_Puram</th>\n",
              "      <th>Rohini</th>\n",
              "      <th>Shadipur</th>\n",
              "      <th>Sirifort</th>\n",
              "      <th>Sonia_Vihar</th>\n",
              "      <th>Sri_Aurobindo_Marg</th>\n",
              "      <th>Vivek_Vihar</th>\n",
              "      <th>Wazirpur</th>\n",
              "    </tr>\n",
              "  </thead>\n",
              "  <tbody>\n",
              "    <tr>\n",
              "      <th>0</th>\n",
              "      <td>01-Jan-2019 - 00:00</td>\n",
              "      <td>01-Jan-2019 - 01:00</td>\n",
              "      <td>361.5</td>\n",
              "      <td>517.25</td>\n",
              "      <td>408.25</td>\n",
              "      <td>128.0</td>\n",
              "      <td>349.00</td>\n",
              "      <td>360.0</td>\n",
              "      <td>486.00</td>\n",
              "      <td>330.65</td>\n",
              "      <td>414.25</td>\n",
              "      <td>608.5</td>\n",
              "      <td>350.50</td>\n",
              "      <td>386.25</td>\n",
              "      <td>474.5</td>\n",
              "      <td>504.96</td>\n",
              "      <td>186.25</td>\n",
              "      <td>271.75</td>\n",
              "      <td>689.50</td>\n",
              "      <td>504.25</td>\n",
              "      <td>458.25</td>\n",
              "      <td>501.25</td>\n",
              "      <td>420.25</td>\n",
              "      <td>655.50</td>\n",
              "      <td>406.0</td>\n",
              "      <td>291.55</td>\n",
              "      <td>432.75</td>\n",
              "      <td>415.0</td>\n",
              "      <td>252.5</td>\n",
              "      <td>347.5</td>\n",
              "      <td>467.0</td>\n",
              "    </tr>\n",
              "    <tr>\n",
              "      <th>1</th>\n",
              "      <td>01-Jan-2019 - 01:00</td>\n",
              "      <td>01-Jan-2019 - 02:00</td>\n",
              "      <td>348.0</td>\n",
              "      <td>531.25</td>\n",
              "      <td>466.75</td>\n",
              "      <td>138.0</td>\n",
              "      <td>374.75</td>\n",
              "      <td>312.0</td>\n",
              "      <td>401.75</td>\n",
              "      <td>316.53</td>\n",
              "      <td>402.00</td>\n",
              "      <td>677.0</td>\n",
              "      <td>366.75</td>\n",
              "      <td>383.50</td>\n",
              "      <td>397.0</td>\n",
              "      <td>465.76</td>\n",
              "      <td>197.50</td>\n",
              "      <td>250.50</td>\n",
              "      <td>596.00</td>\n",
              "      <td>504.75</td>\n",
              "      <td>472.25</td>\n",
              "      <td>521.25</td>\n",
              "      <td>475.75</td>\n",
              "      <td>583.50</td>\n",
              "      <td>401.0</td>\n",
              "      <td>371.05</td>\n",
              "      <td>401.75</td>\n",
              "      <td>533.0</td>\n",
              "      <td>289.5</td>\n",
              "      <td>307.0</td>\n",
              "      <td>483.0</td>\n",
              "    </tr>\n",
              "    <tr>\n",
              "      <th>2</th>\n",
              "      <td>01-Jan-2019 - 02:00</td>\n",
              "      <td>01-Jan-2019 - 03:00</td>\n",
              "      <td>298.0</td>\n",
              "      <td>542.00</td>\n",
              "      <td>496.00</td>\n",
              "      <td>123.0</td>\n",
              "      <td>383.00</td>\n",
              "      <td>291.0</td>\n",
              "      <td>333.75</td>\n",
              "      <td>297.23</td>\n",
              "      <td>361.75</td>\n",
              "      <td>655.0</td>\n",
              "      <td>352.75</td>\n",
              "      <td>467.50</td>\n",
              "      <td>308.0</td>\n",
              "      <td>410.38</td>\n",
              "      <td>192.50</td>\n",
              "      <td>237.00</td>\n",
              "      <td>524.50</td>\n",
              "      <td>482.25</td>\n",
              "      <td>440.50</td>\n",
              "      <td>538.50</td>\n",
              "      <td>515.75</td>\n",
              "      <td>435.75</td>\n",
              "      <td>376.0</td>\n",
              "      <td>468.18</td>\n",
              "      <td>398.75</td>\n",
              "      <td>431.0</td>\n",
              "      <td>292.5</td>\n",
              "      <td>288.5</td>\n",
              "      <td>473.5</td>\n",
              "    </tr>\n",
              "    <tr>\n",
              "      <th>3</th>\n",
              "      <td>01-Jan-2019 - 03:00</td>\n",
              "      <td>01-Jan-2019 - 04:00</td>\n",
              "      <td>276.5</td>\n",
              "      <td>547.50</td>\n",
              "      <td>467.25</td>\n",
              "      <td>125.0</td>\n",
              "      <td>337.75</td>\n",
              "      <td>287.0</td>\n",
              "      <td>256.75</td>\n",
              "      <td>279.30</td>\n",
              "      <td>329.75</td>\n",
              "      <td>550.5</td>\n",
              "      <td>326.00</td>\n",
              "      <td>474.75</td>\n",
              "      <td>318.5</td>\n",
              "      <td>320.13</td>\n",
              "      <td>188.75</td>\n",
              "      <td>249.25</td>\n",
              "      <td>462.25</td>\n",
              "      <td>426.25</td>\n",
              "      <td>437.25</td>\n",
              "      <td>465.25</td>\n",
              "      <td>487.25</td>\n",
              "      <td>351.50</td>\n",
              "      <td>340.0</td>\n",
              "      <td>458.30</td>\n",
              "      <td>364.75</td>\n",
              "      <td>414.0</td>\n",
              "      <td>283.5</td>\n",
              "      <td>294.0</td>\n",
              "      <td>496.0</td>\n",
              "    </tr>\n",
              "    <tr>\n",
              "      <th>4</th>\n",
              "      <td>01-Jan-2019 - 04:00</td>\n",
              "      <td>01-Jan-2019 - 05:00</td>\n",
              "      <td>295.0</td>\n",
              "      <td>497.00</td>\n",
              "      <td>453.25</td>\n",
              "      <td>130.0</td>\n",
              "      <td>387.00</td>\n",
              "      <td>289.0</td>\n",
              "      <td>222.25</td>\n",
              "      <td>258.45</td>\n",
              "      <td>346.00</td>\n",
              "      <td>441.0</td>\n",
              "      <td>271.00</td>\n",
              "      <td>435.00</td>\n",
              "      <td>304.5</td>\n",
              "      <td>273.90</td>\n",
              "      <td>182.25</td>\n",
              "      <td>261.00</td>\n",
              "      <td>370.50</td>\n",
              "      <td>365.50</td>\n",
              "      <td>396.00</td>\n",
              "      <td>361.00</td>\n",
              "      <td>454.50</td>\n",
              "      <td>319.75</td>\n",
              "      <td>371.0</td>\n",
              "      <td>417.15</td>\n",
              "      <td>327.75</td>\n",
              "      <td>381.0</td>\n",
              "      <td>264.5</td>\n",
              "      <td>334.0</td>\n",
              "      <td>513.0</td>\n",
              "    </tr>\n",
              "  </tbody>\n",
              "</table>\n",
              "</div>"
            ],
            "text/plain": [
              "              FromDate               ToDate  ...  Vivek_Vihar  Wazirpur\n",
              "0  01-Jan-2019 - 00:00  01-Jan-2019 - 01:00  ...        347.5     467.0\n",
              "1  01-Jan-2019 - 01:00  01-Jan-2019 - 02:00  ...        307.0     483.0\n",
              "2  01-Jan-2019 - 02:00  01-Jan-2019 - 03:00  ...        288.5     473.5\n",
              "3  01-Jan-2019 - 03:00  01-Jan-2019 - 04:00  ...        294.0     496.0\n",
              "4  01-Jan-2019 - 04:00  01-Jan-2019 - 05:00  ...        334.0     513.0\n",
              "\n",
              "[5 rows x 31 columns]"
            ]
          },
          "metadata": {
            "tags": []
          },
          "execution_count": 6
        }
      ]
    },
    {
      "cell_type": "code",
      "metadata": {
        "id": "yt76wsX2f0Mc",
        "colab_type": "code",
        "colab": {}
      },
      "source": [
        "min_max_scaler = preprocessing.MinMaxScaler()\n",
        "pm_data_scaled = min_max_scaler.fit_transform(pm_data.drop(labels=['FromDate','ToDate'],axis=1))\n",
        "pm_data_normalized = pd.DataFrame(pm_data_scaled)"
      ],
      "execution_count": null,
      "outputs": []
    },
    {
      "cell_type": "code",
      "metadata": {
        "id": "ck0vvp1ZjG_8",
        "colab_type": "code",
        "colab": {
          "base_uri": "https://localhost:8080/",
          "height": 34
        },
        "outputId": "051383d3-03c4-41d6-c0c1-6ef7dcf241e1"
      },
      "source": [
        "pm_data_normalized.shape"
      ],
      "execution_count": null,
      "outputs": [
        {
          "output_type": "execute_result",
          "data": {
            "text/plain": [
              "(8749, 29)"
            ]
          },
          "metadata": {
            "tags": []
          },
          "execution_count": 8
        }
      ]
    },
    {
      "cell_type": "code",
      "metadata": {
        "id": "4q5em7-8n-1n",
        "colab_type": "code",
        "colab": {
          "base_uri": "https://localhost:8080/",
          "height": 54
        },
        "outputId": "5fec242f-06b0-4c2a-972e-54ccd11f7888"
      },
      "source": [
        "index_val = []\n",
        "for i in range(pm_data_normalized.shape[1]):\n",
        "  index1 = []\n",
        "  for j in range(pm_data_normalized.shape[1]):\n",
        "    if i != j:\n",
        "      a = ((data['Latitude'][i]-data['Latitude'][j])**2)\n",
        "      b = ((data['Longitude'][i]-data['Longitude'][j])**2)\n",
        "      ans = (a+b)**0.5\n",
        "      index1.append(ans)\n",
        "  i1=0\n",
        "  val = [i]\n",
        "  index2 = copy.copy(index1)\n",
        "  while(i1<3):\n",
        "    val.append(index1.index(max(index2)))\n",
        "    index2.remove(max(index2))\n",
        "    i1 += 1\n",
        "  index_val.append(val)\n",
        "print(index_val)"
      ],
      "execution_count": null,
      "outputs": [
        {
          "output_type": "stream",
          "text": [
            "[[0, 4, 13, 16], [1, 13, 2, 12], [2, 13, 4, 16], [3, 4, 16, 1], [4, 4, 16, 13], [5, 14, 3, 13], [6, 26, 0, 1], [7, 13, 12, 3], [8, 13, 5, 16], [9, 13, 14, 3], [10, 13, 14, 3], [11, 13, 14, 3], [12, 5, 16, 1], [13, 26, 1, 7], [14, 26, 1, 7], [15, 5, 16, 25], [16, 14, 15, 3], [17, 14, 15, 3], [18, 14, 3, 15], [19, 15, 0, 14], [20, 14, 15, 5], [21, 14, 5, 17], [22, 5, 17, 14], [23, 14, 5, 15], [24, 15, 14, 3], [25, 14, 13, 6], [26, 15, 0, 3], [27, 14, 13, 3], [28, 14, 5, 17]]\n"
          ],
          "name": "stdout"
        }
      ]
    },
    {
      "cell_type": "code",
      "metadata": {
        "id": "WLLEkxPqpqXi",
        "colab_type": "code",
        "colab": {
          "base_uri": "https://localhost:8080/",
          "height": 130
        },
        "outputId": "e7e5134a-7cc6-422a-ca1c-f87e0af1c511"
      },
      "source": [
        "pm_data_normalized.head(2)"
      ],
      "execution_count": null,
      "outputs": [
        {
          "output_type": "execute_result",
          "data": {
            "text/html": [
              "<div>\n",
              "<style scoped>\n",
              "    .dataframe tbody tr th:only-of-type {\n",
              "        vertical-align: middle;\n",
              "    }\n",
              "\n",
              "    .dataframe tbody tr th {\n",
              "        vertical-align: top;\n",
              "    }\n",
              "\n",
              "    .dataframe thead th {\n",
              "        text-align: right;\n",
              "    }\n",
              "</style>\n",
              "<table border=\"1\" class=\"dataframe\">\n",
              "  <thead>\n",
              "    <tr style=\"text-align: right;\">\n",
              "      <th></th>\n",
              "      <th>0</th>\n",
              "      <th>1</th>\n",
              "      <th>2</th>\n",
              "      <th>3</th>\n",
              "      <th>4</th>\n",
              "      <th>5</th>\n",
              "      <th>6</th>\n",
              "      <th>7</th>\n",
              "      <th>8</th>\n",
              "      <th>9</th>\n",
              "      <th>10</th>\n",
              "      <th>11</th>\n",
              "      <th>12</th>\n",
              "      <th>13</th>\n",
              "      <th>14</th>\n",
              "      <th>15</th>\n",
              "      <th>16</th>\n",
              "      <th>17</th>\n",
              "      <th>18</th>\n",
              "      <th>19</th>\n",
              "      <th>20</th>\n",
              "      <th>21</th>\n",
              "      <th>22</th>\n",
              "      <th>23</th>\n",
              "      <th>24</th>\n",
              "      <th>25</th>\n",
              "      <th>26</th>\n",
              "      <th>27</th>\n",
              "      <th>28</th>\n",
              "    </tr>\n",
              "  </thead>\n",
              "  <tbody>\n",
              "    <tr>\n",
              "      <th>0</th>\n",
              "      <td>0.362809</td>\n",
              "      <td>0.549348</td>\n",
              "      <td>0.420010</td>\n",
              "      <td>0.122967</td>\n",
              "      <td>0.360474</td>\n",
              "      <td>0.372093</td>\n",
              "      <td>0.545914</td>\n",
              "      <td>0.334132</td>\n",
              "      <td>0.417424</td>\n",
              "      <td>0.700230</td>\n",
              "      <td>0.361922</td>\n",
              "      <td>0.40873</td>\n",
              "      <td>0.483690</td>\n",
              "      <td>0.689431</td>\n",
              "      <td>0.205347</td>\n",
              "      <td>0.304652</td>\n",
              "      <td>0.746818</td>\n",
              "      <td>0.557927</td>\n",
              "      <td>0.466175</td>\n",
              "      <td>0.507338</td>\n",
              "      <td>0.429703</td>\n",
              "      <td>0.748288</td>\n",
              "      <td>0.424686</td>\n",
              "      <td>0.449292</td>\n",
              "      <td>0.44671</td>\n",
              "      <td>0.539136</td>\n",
              "      <td>0.275354</td>\n",
              "      <td>0.363019</td>\n",
              "      <td>0.480829</td>\n",
              "    </tr>\n",
              "    <tr>\n",
              "      <th>1</th>\n",
              "      <td>0.349166</td>\n",
              "      <td>0.564246</td>\n",
              "      <td>0.480195</td>\n",
              "      <td>0.133130</td>\n",
              "      <td>0.387070</td>\n",
              "      <td>0.322481</td>\n",
              "      <td>0.451278</td>\n",
              "      <td>0.319863</td>\n",
              "      <td>0.405051</td>\n",
              "      <td>0.779056</td>\n",
              "      <td>0.378714</td>\n",
              "      <td>0.40582</td>\n",
              "      <td>0.404689</td>\n",
              "      <td>0.635911</td>\n",
              "      <td>0.217751</td>\n",
              "      <td>0.280830</td>\n",
              "      <td>0.645546</td>\n",
              "      <td>0.558481</td>\n",
              "      <td>0.480417</td>\n",
              "      <td>0.527581</td>\n",
              "      <td>0.486452</td>\n",
              "      <td>0.666096</td>\n",
              "      <td>0.419456</td>\n",
              "      <td>0.534610</td>\n",
              "      <td>0.41471</td>\n",
              "      <td>0.692433</td>\n",
              "      <td>0.315703</td>\n",
              "      <td>0.320710</td>\n",
              "      <td>0.497409</td>\n",
              "    </tr>\n",
              "  </tbody>\n",
              "</table>\n",
              "</div>"
            ],
            "text/plain": [
              "         0         1         2   ...        26        27        28\n",
              "0  0.362809  0.549348  0.420010  ...  0.275354  0.363019  0.480829\n",
              "1  0.349166  0.564246  0.480195  ...  0.315703  0.320710  0.497409\n",
              "\n",
              "[2 rows x 29 columns]"
            ]
          },
          "metadata": {
            "tags": []
          },
          "execution_count": 10
        }
      ]
    },
    {
      "cell_type": "code",
      "metadata": {
        "id": "9k2b-6yXChqs",
        "colab_type": "code",
        "colab": {
          "base_uri": "https://localhost:8080/",
          "height": 34
        },
        "outputId": "0202074b-ddf9-4c50-df12-a2c8a5209e81"
      },
      "source": [
        "train_size = int(len(pm_data_normalized) * 0.9)\n",
        "train, test = pm_data_normalized.iloc[0:train_size], pm_data_normalized.iloc[train_size:len(pm_data_normalized)]\n",
        "print(len(train), len(test))"
      ],
      "execution_count": null,
      "outputs": [
        {
          "output_type": "stream",
          "text": [
            "7874 875\n"
          ],
          "name": "stdout"
        }
      ]
    },
    {
      "cell_type": "code",
      "metadata": {
        "id": "fvp-VxBFFBSd",
        "colab_type": "code",
        "colab": {
          "base_uri": "https://localhost:8080/",
          "height": 34
        },
        "outputId": "c5b624d6-8ed4-454c-d5b0-e8a556095295"
      },
      "source": [
        "len(train[1])"
      ],
      "execution_count": null,
      "outputs": [
        {
          "output_type": "execute_result",
          "data": {
            "text/plain": [
              "7874"
            ]
          },
          "metadata": {
            "tags": []
          },
          "execution_count": 12
        }
      ]
    },
    {
      "cell_type": "code",
      "metadata": {
        "id": "ihdgB2weCrcs",
        "colab_type": "code",
        "colab": {}
      },
      "source": [
        "train_data = []\n",
        "test_data = []\n",
        "for i in range(train.shape[1]):\n",
        "  train_data.append(list(train[i].to_numpy()))\n",
        "  test_data.append(list(test[i].to_numpy()))"
      ],
      "execution_count": null,
      "outputs": []
    },
    {
      "cell_type": "code",
      "metadata": {
        "id": "lUbW1dmusRp4",
        "colab_type": "code",
        "colab": {}
      },
      "source": [
        "train_x = []\n",
        "train_y = []"
      ],
      "execution_count": null,
      "outputs": []
    },
    {
      "cell_type": "code",
      "metadata": {
        "id": "34feW-jgBojx",
        "colab_type": "code",
        "colab": {}
      },
      "source": [
        "window=24\n",
        "for i in range(len(train_data[0])-window):\n",
        "  train_tempX = []\n",
        "  train_tempY = []\n",
        "  for j in range(train.shape[1]):\n",
        "    train_tempx = []\n",
        "    train_tempy = []\n",
        "    for k in range(len(index_val[0])):\n",
        "      train_tempx.append(train_data[index_val[j][k]][i:i+window-1])\n",
        "    train_tempX.append(train_tempx)\n",
        "    train_tempY.append(train_data[j][i+window])\n",
        "  train_x.append(train_tempX)\n",
        "  train_y.append(train_tempY)"
      ],
      "execution_count": null,
      "outputs": []
    },
    {
      "cell_type": "code",
      "metadata": {
        "id": "ykVtaT5BCDLh",
        "colab_type": "code",
        "colab": {}
      },
      "source": [
        "train_X = np.array(train_x)\n",
        "train_Y = np.array(train_y)"
      ],
      "execution_count": null,
      "outputs": []
    },
    {
      "cell_type": "code",
      "metadata": {
        "id": "0piZInaCHlkD",
        "colab_type": "code",
        "colab": {
          "base_uri": "https://localhost:8080/",
          "height": 52
        },
        "outputId": "4560822d-2563-436e-8deb-77e2c0074ced"
      },
      "source": [
        "print(train_X.shape[1])\n",
        "print(train_Y.shape)"
      ],
      "execution_count": null,
      "outputs": [
        {
          "output_type": "stream",
          "text": [
            "29\n",
            "(7850, 29)\n"
          ],
          "name": "stdout"
        }
      ]
    },
    {
      "cell_type": "code",
      "metadata": {
        "id": "_yTUgu0MIMZA",
        "colab_type": "code",
        "colab": {}
      },
      "source": [
        "test_x = []\n",
        "test_y = []\n",
        "window=24\n",
        "for i in range(len(test_data[0])-window):\n",
        "  test_tempX = []\n",
        "  test_tempY = []\n",
        "  for j in range(test.shape[1]):\n",
        "    test_tempx = []\n",
        "    test_tempy = []\n",
        "    for k in range(len(index_val[0])):\n",
        "      test_tempx.append(test_data[index_val[j][k]][i:i+window-1])\n",
        "    test_tempX.append(test_tempx)\n",
        "    test_tempY.append(test_data[j][i+window])\n",
        "  test_x.append(test_tempX)\n",
        "  test_y.append(test_tempY)"
      ],
      "execution_count": null,
      "outputs": []
    },
    {
      "cell_type": "code",
      "metadata": {
        "id": "xuEwx1JLPJ9U",
        "colab_type": "code",
        "colab": {}
      },
      "source": [
        "test_X = np.array(test_x)\n",
        "test_Y = np.array(test_y)"
      ],
      "execution_count": null,
      "outputs": []
    },
    {
      "cell_type": "code",
      "metadata": {
        "id": "McFLYjJ0PQpC",
        "colab_type": "code",
        "colab": {
          "base_uri": "https://localhost:8080/",
          "height": 52
        },
        "outputId": "a27e2957-735f-472c-814d-cd00c428c47c"
      },
      "source": [
        "print(test_X.shape)\n",
        "print(test_Y.shape)"
      ],
      "execution_count": null,
      "outputs": [
        {
          "output_type": "stream",
          "text": [
            "(851, 29, 4, 23)\n",
            "(851, 29)\n"
          ],
          "name": "stdout"
        }
      ]
    },
    {
      "cell_type": "code",
      "metadata": {
        "id": "7fL5_kxOzMxA",
        "colab_type": "code",
        "colab": {
          "base_uri": "https://localhost:8080/",
          "height": 34
        },
        "outputId": "6e06fdf9-ea6f-4310-9791-f5c40aef2e5d"
      },
      "source": [
        "min_max_scaler = preprocessing.MinMaxScaler()\n",
        "ws_data_scaled = min_max_scaler.fit_transform(ws_data.drop(labels=['FromDate','ToDate'],axis=1))\n",
        "ws_data_normalized = pd.DataFrame(ws_data_scaled)\n",
        "\n",
        "train_size = int(len(ws_data_normalized[0]) * 0.9)\n",
        "ws_train = []\n",
        "ws_test = []\n",
        "for i in range(train_size-24):\n",
        "  ws_train1 = ws_data_normalized.iloc[i:i+23]\n",
        "  ws_train1 = ws_train1.sum()/23\n",
        "  ws_train.append(ws_train1)\n",
        "\n",
        "for i in range(train_size,len(ws_data_normalized)-24):\n",
        "  ws_test1 =  ws_data_normalized.iloc[i:i+23]\n",
        "  ws_test1 = ws_test1.sum()/23\n",
        "  ws_test.append(ws_test1)\n",
        "\n",
        "ws_train = np.array(ws_train)\n",
        "ws_test = np.array(ws_test)\n",
        "\n",
        "print(ws_train.shape, ws_test.shape)"
      ],
      "execution_count": null,
      "outputs": [
        {
          "output_type": "stream",
          "text": [
            "(7850, 29) (851, 29)\n"
          ],
          "name": "stdout"
        }
      ]
    },
    {
      "cell_type": "code",
      "metadata": {
        "id": "V3s0lLmmdSKz",
        "colab_type": "code",
        "colab": {}
      },
      "source": [
        "from tensorflow.keras import Sequential\n",
        "from tensorflow.keras.layers import Dense, LSTM, Dropout,concatenate,Input,Flatten,Conv3D,Reshape\n",
        "from tensorflow.keras.models import Model"
      ],
      "execution_count": null,
      "outputs": []
    },
    {
      "cell_type": "code",
      "metadata": {
        "id": "UhiAYLOPUICK",
        "colab_type": "code",
        "colab": {}
      },
      "source": [
        "input_vector = Input(shape=(train_X.shape[1],train_X.shape[2],train_X.shape[3],1), name='main_input')\n",
        "x=Conv3D(23, (1,4,23), activation='relu')(input_vector)\n",
        "x = Reshape((29,23))(x)\n",
        "x = LSTM(units =150,activation = 'relu', return_sequences = True)(x)\n",
        "x = LSTM(units =150,activation = 'relu')(x)\n",
        "x = Dense(29, activation='relu')(x)\n",
        "auxiliary_input=Input(shape=(29), name='aux_input')\n",
        "x = concatenate([x, auxiliary_input])\n",
        "x = Dense(300, activation='relu')(x)\n",
        "main_output = Dense(29, name='main_output')(x)\n",
        "model = Model(inputs=[input_vector,auxiliary_input], outputs=main_output)"
      ],
      "execution_count": null,
      "outputs": []
    },
    {
      "cell_type": "code",
      "metadata": {
        "id": "nRyrOAjZUXhN",
        "colab_type": "code",
        "colab": {
          "base_uri": "https://localhost:8080/",
          "height": 527
        },
        "outputId": "240c8a70-da7d-484b-ce10-5147d7a637a3"
      },
      "source": [
        "model.summary()"
      ],
      "execution_count": null,
      "outputs": [
        {
          "output_type": "stream",
          "text": [
            "Model: \"model\"\n",
            "__________________________________________________________________________________________________\n",
            "Layer (type)                    Output Shape         Param #     Connected to                     \n",
            "==================================================================================================\n",
            "main_input (InputLayer)         [(None, 29, 4, 23, 1 0                                            \n",
            "__________________________________________________________________________________________________\n",
            "conv3d (Conv3D)                 (None, 29, 1, 1, 23) 2139        main_input[0][0]                 \n",
            "__________________________________________________________________________________________________\n",
            "reshape (Reshape)               (None, 29, 23)       0           conv3d[0][0]                     \n",
            "__________________________________________________________________________________________________\n",
            "lstm (LSTM)                     (None, 29, 150)      104400      reshape[0][0]                    \n",
            "__________________________________________________________________________________________________\n",
            "lstm_1 (LSTM)                   (None, 150)          180600      lstm[0][0]                       \n",
            "__________________________________________________________________________________________________\n",
            "dense (Dense)                   (None, 29)           4379        lstm_1[0][0]                     \n",
            "__________________________________________________________________________________________________\n",
            "aux_input (InputLayer)          [(None, 29)]         0                                            \n",
            "__________________________________________________________________________________________________\n",
            "concatenate (Concatenate)       (None, 58)           0           dense[0][0]                      \n",
            "                                                                 aux_input[0][0]                  \n",
            "__________________________________________________________________________________________________\n",
            "dense_1 (Dense)                 (None, 300)          17700       concatenate[0][0]                \n",
            "__________________________________________________________________________________________________\n",
            "main_output (Dense)             (None, 29)           8729        dense_1[0][0]                    \n",
            "==================================================================================================\n",
            "Total params: 317,947\n",
            "Trainable params: 317,947\n",
            "Non-trainable params: 0\n",
            "__________________________________________________________________________________________________\n"
          ],
          "name": "stdout"
        }
      ]
    },
    {
      "cell_type": "code",
      "metadata": {
        "id": "RV1W0jGCV0OT",
        "colab_type": "code",
        "colab": {}
      },
      "source": [
        "# def scheduler(epoch):\n",
        "#   temp=0.1**(1+int(epoch/20))\n",
        "#   return temp\n",
        "# callback = tf.keras.callbacks.LearningRateScheduler(scheduler)\n",
        "\n",
        "# optimizer = tf.keras.optimizers.SGD(lr=0.1, momentum=0.9)\n",
        "# model.compile(optimizer=optimizer,loss='mae',metrics=['mae',tf.keras.metrics.RootMeanSquaredError()\n",
        "# ])"
      ],
      "execution_count": null,
      "outputs": []
    },
    {
      "cell_type": "code",
      "metadata": {
        "id": "thABZvJLWZMn",
        "colab_type": "code",
        "colab": {}
      },
      "source": [
        "# history=model.fit([train_X,ws_train],[train_Y],epochs=60,callbacks=[callback])"
      ],
      "execution_count": null,
      "outputs": []
    },
    {
      "cell_type": "code",
      "metadata": {
        "id": "sfzUl_VYK2aO",
        "colab_type": "code",
        "colab": {
          "base_uri": "https://localhost:8080/",
          "height": 527
        },
        "outputId": "608387c3-be26-4a3f-8c27-bddeb6963ba4"
      },
      "source": [
        "model = tf.keras.models.load_model('drive/My Drive/btp/model/3dmodel')\n",
        "model.summary()"
      ],
      "execution_count": null,
      "outputs": [
        {
          "output_type": "stream",
          "text": [
            "Model: \"model\"\n",
            "__________________________________________________________________________________________________\n",
            "Layer (type)                    Output Shape         Param #     Connected to                     \n",
            "==================================================================================================\n",
            "main_input (InputLayer)         [(None, 29, 4, 23, 1 0                                            \n",
            "__________________________________________________________________________________________________\n",
            "conv3d (Conv3D)                 (None, 29, 1, 1, 23) 2139        main_input[0][0]                 \n",
            "__________________________________________________________________________________________________\n",
            "reshape (Reshape)               (None, 29, 23)       0           conv3d[0][0]                     \n",
            "__________________________________________________________________________________________________\n",
            "lstm (LSTM)                     (None, 29, 150)      104400      reshape[0][0]                    \n",
            "__________________________________________________________________________________________________\n",
            "lstm_1 (LSTM)                   (None, 150)          180600      lstm[0][0]                       \n",
            "__________________________________________________________________________________________________\n",
            "dense (Dense)                   (None, 29)           4379        lstm_1[0][0]                     \n",
            "__________________________________________________________________________________________________\n",
            "aux_input (InputLayer)          [(None, 29)]         0                                            \n",
            "__________________________________________________________________________________________________\n",
            "concatenate (Concatenate)       (None, 58)           0           dense[0][0]                      \n",
            "                                                                 aux_input[0][0]                  \n",
            "__________________________________________________________________________________________________\n",
            "dense_1 (Dense)                 (None, 300)          17700       concatenate[0][0]                \n",
            "__________________________________________________________________________________________________\n",
            "main_output (Dense)             (None, 29)           8729        dense_1[0][0]                    \n",
            "==================================================================================================\n",
            "Total params: 317,947\n",
            "Trainable params: 317,947\n",
            "Non-trainable params: 0\n",
            "__________________________________________________________________________________________________\n"
          ],
          "name": "stdout"
        }
      ]
    },
    {
      "cell_type": "code",
      "metadata": {
        "id": "LDpozO6UWdq4",
        "colab_type": "code",
        "colab": {
          "base_uri": "https://localhost:8080/",
          "height": 52
        },
        "outputId": "72a66b8b-32e3-4e17-ef44-37d3022abd71"
      },
      "source": [
        "predictions = model.predict([test_X,ws_test])\n",
        "print(predictions.shape)\n",
        "print(test_Y.shape)"
      ],
      "execution_count": null,
      "outputs": [
        {
          "output_type": "stream",
          "text": [
            "(851, 29)\n",
            "(851, 29)\n"
          ],
          "name": "stdout"
        }
      ]
    },
    {
      "cell_type": "code",
      "metadata": {
        "id": "JraJeofClkug",
        "colab_type": "code",
        "colab": {}
      },
      "source": [
        "# model.save('drive/My Drive/btp/model/3dmodel')"
      ],
      "execution_count": null,
      "outputs": []
    },
    {
      "cell_type": "code",
      "metadata": {
        "id": "9D0VOIfAan82",
        "colab_type": "code",
        "colab": {
          "base_uri": "https://localhost:8080/",
          "height": 34
        },
        "outputId": "aad32397-118e-425b-860e-5fdcd85fdc11"
      },
      "source": [
        "new=[]\n",
        "newtest=[]\n",
        "for i in range(predictions.shape[0]):\n",
        "  new.append(predictions[i][20])#20\n",
        "  newtest.append(test_Y[i][20])\n",
        "new=np.array(new)\n",
        "newtest=np.array(newtest)\n",
        "print(new.shape)"
      ],
      "execution_count": null,
      "outputs": [
        {
          "output_type": "stream",
          "text": [
            "(851,)\n"
          ],
          "name": "stdout"
        }
      ]
    },
    {
      "cell_type": "code",
      "metadata": {
        "id": "MSBjwT1Caq0_",
        "colab_type": "code",
        "colab": {
          "base_uri": "https://localhost:8080/",
          "height": 330
        },
        "outputId": "c76c299a-7209-4e97-ebd8-340b044cc6d8"
      },
      "source": [
        "import matplotlib.image  as mpimg\n",
        "import matplotlib.pyplot as plt\n",
        "\n",
        "plt.plot(new, 'r')\n",
        "plt.plot(newtest, 'b')\n",
        "plt.xlabel(\"Time\")\n",
        "plt.ylabel(\"PM 2.5\")\n",
        "plt.legend([\"predictions\",\"Theoretical\"])\n",
        "plt.title('Punjabi Bagh')\n",
        "\n",
        "plt.figure()\n"
      ],
      "execution_count": null,
      "outputs": [
        {
          "output_type": "execute_result",
          "data": {
            "text/plain": [
              "<Figure size 432x288 with 0 Axes>"
            ]
          },
          "metadata": {
            "tags": []
          },
          "execution_count": 41
        },
        {
          "output_type": "display_data",
          "data": {
            "image/png": "[encoded data removed]",
            "text/plain": [
              "<Figure size 432x288 with 1 Axes>"
            ]
          },
          "metadata": {
            "tags": [],
            "needs_background": "light"
          }
        },
        {
          "output_type": "display_data",
          "data": {
            "text/plain": [
              "<Figure size 432x288 with 0 Axes>"
            ]
          },
          "metadata": {
            "tags": []
          }
        }
      ]
    },
    {
      "cell_type": "code",
      "metadata": {
        "id": "PxbO_YAwauws",
        "colab_type": "code",
        "colab": {
          "base_uri": "https://localhost:8080/",
          "height": 52
        },
        "outputId": "60530207-3d0d-4747-bfe1-8310439f4c4b"
      },
      "source": [
        "train_x1 = []\n",
        "train_y1 = []\n",
        "window=24\n",
        "for i in range(len(train_data[0])-window):\n",
        "  train_tempX = []\n",
        "  train_tempY = []\n",
        "  for j in range(train.shape[1]):\n",
        "    train_tempX.append(train_data[j][i:i+window-1])\n",
        "    train_tempY.append(train_data[j][i+window])\n",
        "  train_x1.append(train_tempX)\n",
        "  train_y1.append(train_tempY)\n",
        "train_X_2d = np.array(train_x1)\n",
        "train_Y_2d = np.array(train_y1)\n",
        "print(train_X_2d.shape)\n",
        "print(train_Y_2d.shape)"
      ],
      "execution_count": null,
      "outputs": [
        {
          "output_type": "stream",
          "text": [
            "(7850, 29, 23)\n",
            "(7850, 29)\n"
          ],
          "name": "stdout"
        }
      ]
    },
    {
      "cell_type": "code",
      "metadata": {
        "id": "0q62isbf89iE",
        "colab_type": "code",
        "colab": {
          "base_uri": "https://localhost:8080/",
          "height": 52
        },
        "outputId": "4e7709c1-190a-431b-be2c-c30143f27650"
      },
      "source": [
        "test_x1 = []\n",
        "test_y1 = []\n",
        "window=24\n",
        "for i in range(len(test_data[0])-window):\n",
        "  test_tempX = []\n",
        "  test_tempY = []\n",
        "  for j in range(test.shape[1]):\n",
        "    test_tempX.append(test_data[j][i:i+window-1])\n",
        "    test_tempY.append(test_data[j][i+window])\n",
        "  test_x1.append(test_tempX)\n",
        "  test_y1.append(test_tempY)\n",
        "test_X_2d = np.array(test_x1)\n",
        "test_Y_2d = np.array(test_y1)\n",
        "print(test_X_2d.shape)\n",
        "print(test_Y_2d.shape)"
      ],
      "execution_count": null,
      "outputs": [
        {
          "output_type": "stream",
          "text": [
            "(851, 29, 23)\n",
            "(851, 29)\n"
          ],
          "name": "stdout"
        }
      ]
    },
    {
      "cell_type": "code",
      "metadata": {
        "id": "oreKcCmz9Bm2",
        "colab_type": "code",
        "colab": {}
      },
      "source": [
        "model1 = tf.keras.models.load_model('drive/My Drive/btp/model/2dmodel')\n"
      ],
      "execution_count": null,
      "outputs": []
    },
    {
      "cell_type": "code",
      "metadata": {
        "id": "Dti18K-l9NPq",
        "colab_type": "code",
        "colab": {
          "base_uri": "https://localhost:8080/",
          "height": 52
        },
        "outputId": "b0ead403-4b78-4194-8a57-a36924e92fe2"
      },
      "source": [
        "predictions1 = model1.predict([test_X_2d,ws_test])\n",
        "print(predictions1.shape)\n",
        "print(test_Y_2d.shape)\n"
      ],
      "execution_count": null,
      "outputs": [
        {
          "output_type": "stream",
          "text": [
            "(851, 29)\n",
            "(851, 29)\n"
          ],
          "name": "stdout"
        }
      ]
    },
    {
      "cell_type": "code",
      "metadata": {
        "id": "fyMrz1hI9RnY",
        "colab_type": "code",
        "colab": {
          "base_uri": "https://localhost:8080/",
          "height": 348
        },
        "outputId": "92fbf6ca-a522-4f2b-b67e-06d0472eaf8a"
      },
      "source": [
        "new1=[]\n",
        "newtest1=[]\n",
        "for i in range(predictions1.shape[0]):\n",
        "  new1.append(predictions1[i][20])\n",
        "  newtest1.append(test_Y_2d[i][20])\n",
        "new1=np.array(new1)\n",
        "newtest1=np.array(newtest1)\n",
        "print(new1.shape)\n",
        "\n",
        "import matplotlib.image  as mpimg\n",
        "import matplotlib.pyplot as plt\n",
        "plt.plot(new, 'g')\n",
        "plt.plot(new1, 'r')\n",
        "plt.plot(newtest1, 'b')\n",
        "plt.xlabel(\"Time\")\n",
        "plt.ylabel(\"PM 2.5\")\n",
        "plt.legend([\"predictions\",\"predictions\",\"Theoretical\"])\n",
        "plt.title('Punjabi Bagh')\n",
        "\n",
        "plt.figure()\n"
      ],
      "execution_count": null,
      "outputs": [
        {
          "output_type": "stream",
          "text": [
            "(851,)\n"
          ],
          "name": "stdout"
        },
        {
          "output_type": "execute_result",
          "data": {
            "text/plain": [
              "<Figure size 432x288 with 0 Axes>"
            ]
          },
          "metadata": {
            "tags": []
          },
          "execution_count": 46
        },
        {
          "output_type": "display_data",
          "data": {
            "image/png": "[encoded data removed]",
            "text/plain": [
              "<Figure size 432x288 with 1 Axes>"
            ]
          },
          "metadata": {
            "tags": [],
            "needs_background": "light"
          }
        },
        {
          "output_type": "display_data",
          "data": {
            "text/plain": [
              "<Figure size 432x288 with 0 Axes>"
            ]
          },
          "metadata": {
            "tags": []
          }
        }
      ]
    },
    {
      "cell_type": "code",
      "metadata": {
        "id": "a4tokfGv91nE",
        "colab_type": "code",
        "colab": {
          "base_uri": "https://localhost:8080/",
          "height": 34
        },
        "outputId": "73681624-e74d-49f4-bf1a-e5038aa14093"
      },
      "source": [
        "a=new\n",
        "b=newtest\n",
        "a=np.array(a)\n",
        "b=np.array(b)\n",
        "\n",
        "mse = (np.square(a - b)).mean(axis=0)\n",
        "rmse=np.sqrt(mse)\n",
        "rmse"
      ],
      "execution_count": null,
      "outputs": [
        {
          "output_type": "execute_result",
          "data": {
            "text/plain": [
              "0.04606194058586612"
            ]
          },
          "metadata": {
            "tags": []
          },
          "execution_count": 51
        }
      ]
    },
    {
      "cell_type": "code",
      "metadata": {
        "id": "PaZPPNJDoYHf",
        "colab_type": "code",
        "colab": {
          "base_uri": "https://localhost:8080/",
          "height": 34
        },
        "outputId": "df0b7730-4377-4b3d-88ad-67ef96f8b953"
      },
      "source": [
        "mae=(np.absolute(a-b)).mean(axis=0)\n",
        "mae"
      ],
      "execution_count": null,
      "outputs": [
        {
          "output_type": "execute_result",
          "data": {
            "text/plain": [
              "0.03296926698505343"
            ]
          },
          "metadata": {
            "tags": []
          },
          "execution_count": 50
        }
      ]
    },
    {
      "cell_type": "code",
      "metadata": {
        "id": "PlbhTJIvurDp",
        "colab_type": "code",
        "colab": {
          "base_uri": "https://localhost:8080/",
          "height": 34
        },
        "outputId": "a4dd05f6-cf9d-42f4-81d4-5ae9eadcdffe"
      },
      "source": [
        "mape=(np.absolute(a-b)/b).mean(axis=0)*100\n",
        "mape"
      ],
      "execution_count": null,
      "outputs": [
        {
          "output_type": "execute_result",
          "data": {
            "text/plain": [
              "17.324521532129882"
            ]
          },
          "metadata": {
            "tags": []
          },
          "execution_count": 54
        }
      ]
    },
    {
      "cell_type": "code",
      "metadata": {
        "id": "S7pNpRjxy4CS",
        "colab_type": "code",
        "colab": {}
      },
      "source": [
        ""
      ],
      "execution_count": null,
      "outputs": []
    }
  ]
}