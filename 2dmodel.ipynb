{
  "nbformat": 4,
  "nbformat_minor": 0,
  "metadata": {
    "colab": {
      "name": "2dmodel.ipynb",
      "provenance": [],
      "collapsed_sections": []
    },
    "kernelspec": {
      "name": "python3",
      "display_name": "Python 3"
    }
  },
  "cells": [
    {
      "cell_type": "code",
      "metadata": {
        "id": "CPw9Z3F4fAtq",
        "colab_type": "code",
        "colab": {}
      },
      "source": [
        "import pandas as pd\n",
        "import numpy as np\n",
        "import matplotlib.pyplot as plt\n",
        "from sklearn import preprocessing\n",
        "import tensorflow as tf\n",
        "import copy"
      ],
      "execution_count": null,
      "outputs": []
    },
    {
      "cell_type": "code",
      "metadata": {
        "id": "W7mGhuXTcRuZ",
        "colab_type": "code",
        "colab": {
          "base_uri": "https://localhost:8080/",
          "height": 54
        },
        "outputId": "7998cd97-9223-4dc9-dda4-3508a0ee6796"
      },
      "source": [
        "from google.colab import drive\n",
        "drive.mount('/content/drive')"
      ],
      "execution_count": null,
      "outputs": [
        {
          "output_type": "stream",
          "text": [
            "Drive already mounted at /content/drive; to attempt to forcibly remount, call drive.mount(\"/content/drive\", force_remount=True).\n"
          ],
          "name": "stdout"
        }
      ]
    },
    {
      "cell_type": "code",
      "metadata": {
        "id": "Ai6m_wlefblQ",
        "colab_type": "code",
        "colab": {}
      },
      "source": [
        "data = pd.read_excel('drive/My Drive/btp/station_locations.xlsx')\n",
        "ws_data = pd.read_excel('drive/My Drive/btp/ws.xlsx')"
      ],
      "execution_count": null,
      "outputs": []
    },
    {
      "cell_type": "code",
      "metadata": {
        "id": "tqmbLn7HfjNH",
        "colab_type": "code",
        "colab": {
          "base_uri": "https://localhost:8080/",
          "height": 201
        },
        "outputId": "52cc6e9f-b4ba-49bf-a6d1-e0223c75b994"
      },
      "source": [
        "data.head()"
      ],
      "execution_count": null,
      "outputs": [
        {
          "output_type": "execute_result",
          "data": {
            "text/html": [
              "<div>\n",
              "<style scoped>\n",
              "    .dataframe tbody tr th:only-of-type {\n",
              "        vertical-align: middle;\n",
              "    }\n",
              "\n",
              "    .dataframe tbody tr th {\n",
              "        vertical-align: top;\n",
              "    }\n",
              "\n",
              "    .dataframe thead th {\n",
              "        text-align: right;\n",
              "    }\n",
              "</style>\n",
              "<table border=\"1\" class=\"dataframe\">\n",
              "  <thead>\n",
              "    <tr style=\"text-align: right;\">\n",
              "      <th></th>\n",
              "      <th>Station Name</th>\n",
              "      <th>Latitude</th>\n",
              "      <th>Longitude</th>\n",
              "    </tr>\n",
              "  </thead>\n",
              "  <tbody>\n",
              "    <tr>\n",
              "      <th>0</th>\n",
              "      <td>Alipur</td>\n",
              "      <td>28.815329</td>\n",
              "      <td>77.153010</td>\n",
              "    </tr>\n",
              "    <tr>\n",
              "      <th>1</th>\n",
              "      <td>Anand_Vihar</td>\n",
              "      <td>28.646835</td>\n",
              "      <td>77.316032</td>\n",
              "    </tr>\n",
              "    <tr>\n",
              "      <th>2</th>\n",
              "      <td>Ashok_Vihar</td>\n",
              "      <td>28.695381</td>\n",
              "      <td>77.181665</td>\n",
              "    </tr>\n",
              "    <tr>\n",
              "      <th>3</th>\n",
              "      <td>Bawana</td>\n",
              "      <td>28.776200</td>\n",
              "      <td>77.051074</td>\n",
              "    </tr>\n",
              "    <tr>\n",
              "      <th>4</th>\n",
              "      <td>DTU</td>\n",
              "      <td>28.750050</td>\n",
              "      <td>77.111261</td>\n",
              "    </tr>\n",
              "  </tbody>\n",
              "</table>\n",
              "</div>"
            ],
            "text/plain": [
              "  Station Name   Latitude  Longitude\n",
              "0       Alipur  28.815329  77.153010\n",
              "1  Anand_Vihar  28.646835  77.316032\n",
              "2  Ashok_Vihar  28.695381  77.181665\n",
              "3       Bawana  28.776200  77.051074\n",
              "4          DTU  28.750050  77.111261"
            ]
          },
          "metadata": {
            "tags": []
          },
          "execution_count": 49
        }
      ]
    },
    {
      "cell_type": "code",
      "metadata": {
        "id": "PHWSzG-JfkqZ",
        "colab_type": "code",
        "colab": {}
      },
      "source": [
        "pm_data = pd.read_excel('drive/My Drive/btp/pm2.xlsx')"
      ],
      "execution_count": null,
      "outputs": []
    },
    {
      "cell_type": "code",
      "metadata": {
        "id": "JRFqNBoOfxrV",
        "colab_type": "code",
        "colab": {
          "base_uri": "https://localhost:8080/",
          "height": 475
        },
        "outputId": "b9ad36c7-e473-41dd-b486-75c68589bb41"
      },
      "source": [
        "pm_data.head()"
      ],
      "execution_count": null,
      "outputs": [
        {
          "output_type": "execute_result",
          "data": {
            "text/html": [
              "<div>\n",
              "<style scoped>\n",
              "    .dataframe tbody tr th:only-of-type {\n",
              "        vertical-align: middle;\n",
              "    }\n",
              "\n",
              "    .dataframe tbody tr th {\n",
              "        vertical-align: top;\n",
              "    }\n",
              "\n",
              "    .dataframe thead th {\n",
              "        text-align: right;\n",
              "    }\n",
              "</style>\n",
              "<table border=\"1\" class=\"dataframe\">\n",
              "  <thead>\n",
              "    <tr style=\"text-align: right;\">\n",
              "      <th></th>\n",
              "      <th>FromDate</th>\n",
              "      <th>ToDate</th>\n",
              "      <th>Alipur</th>\n",
              "      <th>Anand_Vihar</th>\n",
              "      <th>Ashok_Vihar</th>\n",
              "      <th>Bawana</th>\n",
              "      <th>DTU</th>\n",
              "      <th>Dr_Karni_Singh_Shooting_Range</th>\n",
              "      <th>Dwarka_Sector_8</th>\n",
              "      <th>IHBAS</th>\n",
              "      <th>Jahangirpuri</th>\n",
              "      <th>Jawaharlal_Nehru_Stadium</th>\n",
              "      <th>Major_Dhyan_Chand_National_Stadium</th>\n",
              "      <th>Mandir_Marg</th>\n",
              "      <th>Mundka</th>\n",
              "      <th>NSIT_Dwarka</th>\n",
              "      <th>Najafgarh</th>\n",
              "      <th>Narela</th>\n",
              "      <th>Nehru_Nagar</th>\n",
              "      <th>Okhla_Phase_2</th>\n",
              "      <th>Patparganj</th>\n",
              "      <th>Punjabi_Bagh</th>\n",
              "      <th>Pusa_Delhi_DPCC</th>\n",
              "      <th>RK_Puram</th>\n",
              "      <th>Rohini</th>\n",
              "      <th>Shadipur</th>\n",
              "      <th>Sirifort</th>\n",
              "      <th>Sonia_Vihar</th>\n",
              "      <th>Sri_Aurobindo_Marg</th>\n",
              "      <th>Vivek_Vihar</th>\n",
              "      <th>Wazirpur</th>\n",
              "    </tr>\n",
              "  </thead>\n",
              "  <tbody>\n",
              "    <tr>\n",
              "      <th>0</th>\n",
              "      <td>01-Jan-2019 - 00:00</td>\n",
              "      <td>01-Jan-2019 - 01:00</td>\n",
              "      <td>361.5</td>\n",
              "      <td>517.25</td>\n",
              "      <td>408.25</td>\n",
              "      <td>128.0</td>\n",
              "      <td>349.00</td>\n",
              "      <td>360.0</td>\n",
              "      <td>486.00</td>\n",
              "      <td>330.65</td>\n",
              "      <td>414.25</td>\n",
              "      <td>608.5</td>\n",
              "      <td>350.50</td>\n",
              "      <td>386.25</td>\n",
              "      <td>474.5</td>\n",
              "      <td>504.96</td>\n",
              "      <td>186.25</td>\n",
              "      <td>271.75</td>\n",
              "      <td>689.50</td>\n",
              "      <td>504.25</td>\n",
              "      <td>458.25</td>\n",
              "      <td>501.25</td>\n",
              "      <td>420.25</td>\n",
              "      <td>655.50</td>\n",
              "      <td>406.0</td>\n",
              "      <td>291.55</td>\n",
              "      <td>432.75</td>\n",
              "      <td>415.0</td>\n",
              "      <td>252.5</td>\n",
              "      <td>347.5</td>\n",
              "      <td>467.0</td>\n",
              "    </tr>\n",
              "    <tr>\n",
              "      <th>1</th>\n",
              "      <td>01-Jan-2019 - 01:00</td>\n",
              "      <td>01-Jan-2019 - 02:00</td>\n",
              "      <td>348.0</td>\n",
              "      <td>531.25</td>\n",
              "      <td>466.75</td>\n",
              "      <td>138.0</td>\n",
              "      <td>374.75</td>\n",
              "      <td>312.0</td>\n",
              "      <td>401.75</td>\n",
              "      <td>316.53</td>\n",
              "      <td>402.00</td>\n",
              "      <td>677.0</td>\n",
              "      <td>366.75</td>\n",
              "      <td>383.50</td>\n",
              "      <td>397.0</td>\n",
              "      <td>465.76</td>\n",
              "      <td>197.50</td>\n",
              "      <td>250.50</td>\n",
              "      <td>596.00</td>\n",
              "      <td>504.75</td>\n",
              "      <td>472.25</td>\n",
              "      <td>521.25</td>\n",
              "      <td>475.75</td>\n",
              "      <td>583.50</td>\n",
              "      <td>401.0</td>\n",
              "      <td>371.05</td>\n",
              "      <td>401.75</td>\n",
              "      <td>533.0</td>\n",
              "      <td>289.5</td>\n",
              "      <td>307.0</td>\n",
              "      <td>483.0</td>\n",
              "    </tr>\n",
              "    <tr>\n",
              "      <th>2</th>\n",
              "      <td>01-Jan-2019 - 02:00</td>\n",
              "      <td>01-Jan-2019 - 03:00</td>\n",
              "      <td>298.0</td>\n",
              "      <td>542.00</td>\n",
              "      <td>496.00</td>\n",
              "      <td>123.0</td>\n",
              "      <td>383.00</td>\n",
              "      <td>291.0</td>\n",
              "      <td>333.75</td>\n",
              "      <td>297.23</td>\n",
              "      <td>361.75</td>\n",
              "      <td>655.0</td>\n",
              "      <td>352.75</td>\n",
              "      <td>467.50</td>\n",
              "      <td>308.0</td>\n",
              "      <td>410.38</td>\n",
              "      <td>192.50</td>\n",
              "      <td>237.00</td>\n",
              "      <td>524.50</td>\n",
              "      <td>482.25</td>\n",
              "      <td>440.50</td>\n",
              "      <td>538.50</td>\n",
              "      <td>515.75</td>\n",
              "      <td>435.75</td>\n",
              "      <td>376.0</td>\n",
              "      <td>468.18</td>\n",
              "      <td>398.75</td>\n",
              "      <td>431.0</td>\n",
              "      <td>292.5</td>\n",
              "      <td>288.5</td>\n",
              "      <td>473.5</td>\n",
              "    </tr>\n",
              "    <tr>\n",
              "      <th>3</th>\n",
              "      <td>01-Jan-2019 - 03:00</td>\n",
              "      <td>01-Jan-2019 - 04:00</td>\n",
              "      <td>276.5</td>\n",
              "      <td>547.50</td>\n",
              "      <td>467.25</td>\n",
              "      <td>125.0</td>\n",
              "      <td>337.75</td>\n",
              "      <td>287.0</td>\n",
              "      <td>256.75</td>\n",
              "      <td>279.30</td>\n",
              "      <td>329.75</td>\n",
              "      <td>550.5</td>\n",
              "      <td>326.00</td>\n",
              "      <td>474.75</td>\n",
              "      <td>318.5</td>\n",
              "      <td>320.13</td>\n",
              "      <td>188.75</td>\n",
              "      <td>249.25</td>\n",
              "      <td>462.25</td>\n",
              "      <td>426.25</td>\n",
              "      <td>437.25</td>\n",
              "      <td>465.25</td>\n",
              "      <td>487.25</td>\n",
              "      <td>351.50</td>\n",
              "      <td>340.0</td>\n",
              "      <td>458.30</td>\n",
              "      <td>364.75</td>\n",
              "      <td>414.0</td>\n",
              "      <td>283.5</td>\n",
              "      <td>294.0</td>\n",
              "      <td>496.0</td>\n",
              "    </tr>\n",
              "    <tr>\n",
              "      <th>4</th>\n",
              "      <td>01-Jan-2019 - 04:00</td>\n",
              "      <td>01-Jan-2019 - 05:00</td>\n",
              "      <td>295.0</td>\n",
              "      <td>497.00</td>\n",
              "      <td>453.25</td>\n",
              "      <td>130.0</td>\n",
              "      <td>387.00</td>\n",
              "      <td>289.0</td>\n",
              "      <td>222.25</td>\n",
              "      <td>258.45</td>\n",
              "      <td>346.00</td>\n",
              "      <td>441.0</td>\n",
              "      <td>271.00</td>\n",
              "      <td>435.00</td>\n",
              "      <td>304.5</td>\n",
              "      <td>273.90</td>\n",
              "      <td>182.25</td>\n",
              "      <td>261.00</td>\n",
              "      <td>370.50</td>\n",
              "      <td>365.50</td>\n",
              "      <td>396.00</td>\n",
              "      <td>361.00</td>\n",
              "      <td>454.50</td>\n",
              "      <td>319.75</td>\n",
              "      <td>371.0</td>\n",
              "      <td>417.15</td>\n",
              "      <td>327.75</td>\n",
              "      <td>381.0</td>\n",
              "      <td>264.5</td>\n",
              "      <td>334.0</td>\n",
              "      <td>513.0</td>\n",
              "    </tr>\n",
              "  </tbody>\n",
              "</table>\n",
              "</div>"
            ],
            "text/plain": [
              "              FromDate               ToDate  ...  Vivek_Vihar  Wazirpur\n",
              "0  01-Jan-2019 - 00:00  01-Jan-2019 - 01:00  ...        347.5     467.0\n",
              "1  01-Jan-2019 - 01:00  01-Jan-2019 - 02:00  ...        307.0     483.0\n",
              "2  01-Jan-2019 - 02:00  01-Jan-2019 - 03:00  ...        288.5     473.5\n",
              "3  01-Jan-2019 - 03:00  01-Jan-2019 - 04:00  ...        294.0     496.0\n",
              "4  01-Jan-2019 - 04:00  01-Jan-2019 - 05:00  ...        334.0     513.0\n",
              "\n",
              "[5 rows x 31 columns]"
            ]
          },
          "metadata": {
            "tags": []
          },
          "execution_count": 51
        }
      ]
    },
    {
      "cell_type": "code",
      "metadata": {
        "id": "yt76wsX2f0Mc",
        "colab_type": "code",
        "colab": {}
      },
      "source": [
        "min_max_scaler = preprocessing.MinMaxScaler()\n",
        "pm_data_scaled = min_max_scaler.fit_transform(pm_data.drop(labels=['FromDate','ToDate'],axis=1))\n",
        "pm_data_normalized = pd.DataFrame(pm_data_scaled)"
      ],
      "execution_count": null,
      "outputs": []
    },
    {
      "cell_type": "code",
      "metadata": {
        "id": "ck0vvp1ZjG_8",
        "colab_type": "code",
        "colab": {
          "base_uri": "https://localhost:8080/",
          "height": 34
        },
        "outputId": "efd23914-e70b-45c7-a6b9-637fce563ad9"
      },
      "source": [
        "pm_data_normalized.shape"
      ],
      "execution_count": null,
      "outputs": [
        {
          "output_type": "execute_result",
          "data": {
            "text/plain": [
              "(8749, 29)"
            ]
          },
          "metadata": {
            "tags": []
          },
          "execution_count": 53
        }
      ]
    },
    {
      "cell_type": "code",
      "metadata": {
        "id": "4q5em7-8n-1n",
        "colab_type": "code",
        "colab": {
          "base_uri": "https://localhost:8080/",
          "height": 54
        },
        "outputId": "22ed5d34-e741-46e3-c665-4d3ee771a2e9"
      },
      "source": [
        "index_val = []\n",
        "for i in range(pm_data_normalized.shape[1]):\n",
        "  index1 = []\n",
        "  for j in range(pm_data_normalized.shape[1]):\n",
        "    if i != j:\n",
        "      a = ((data['Latitude'][i]-data['Latitude'][j])**2)\n",
        "      b = ((data['Longitude'][i]-data['Longitude'][j])**2)\n",
        "      ans = (a+b)**0.5\n",
        "      index1.append(ans)\n",
        "  i1=0\n",
        "  val = [i]\n",
        "  index2 = copy.copy(index1)\n",
        "  while(i1<3):\n",
        "    val.append(index1.index(max(index2)))\n",
        "    index2.remove(max(index2))\n",
        "    i1 += 1\n",
        "  index_val.append(val)\n",
        "print(index_val)"
      ],
      "execution_count": null,
      "outputs": [
        {
          "output_type": "stream",
          "text": [
            "[[0, 4, 13, 16], [1, 13, 2, 12], [2, 13, 4, 16], [3, 4, 16, 1], [4, 4, 16, 13], [5, 14, 3, 13], [6, 26, 0, 1], [7, 13, 12, 3], [8, 13, 5, 16], [9, 13, 14, 3], [10, 13, 14, 3], [11, 13, 14, 3], [12, 5, 16, 1], [13, 26, 1, 7], [14, 26, 1, 7], [15, 5, 16, 25], [16, 14, 15, 3], [17, 14, 15, 3], [18, 14, 3, 15], [19, 15, 0, 14], [20, 14, 15, 5], [21, 14, 5, 17], [22, 5, 17, 14], [23, 14, 5, 15], [24, 15, 14, 3], [25, 14, 13, 6], [26, 15, 0, 3], [27, 14, 13, 3], [28, 14, 5, 17]]\n"
          ],
          "name": "stdout"
        }
      ]
    },
    {
      "cell_type": "code",
      "metadata": {
        "id": "WLLEkxPqpqXi",
        "colab_type": "code",
        "colab": {
          "base_uri": "https://localhost:8080/",
          "height": 129
        },
        "outputId": "36ba3ada-8200-410e-a8fa-37a9f1d17a0e"
      },
      "source": [
        "pm_data_normalized.head(2)"
      ],
      "execution_count": null,
      "outputs": [
        {
          "output_type": "execute_result",
          "data": {
            "text/html": [
              "<div>\n",
              "<style scoped>\n",
              "    .dataframe tbody tr th:only-of-type {\n",
              "        vertical-align: middle;\n",
              "    }\n",
              "\n",
              "    .dataframe tbody tr th {\n",
              "        vertical-align: top;\n",
              "    }\n",
              "\n",
              "    .dataframe thead th {\n",
              "        text-align: right;\n",
              "    }\n",
              "</style>\n",
              "<table border=\"1\" class=\"dataframe\">\n",
              "  <thead>\n",
              "    <tr style=\"text-align: right;\">\n",
              "      <th></th>\n",
              "      <th>0</th>\n",
              "      <th>1</th>\n",
              "      <th>2</th>\n",
              "      <th>3</th>\n",
              "      <th>4</th>\n",
              "      <th>5</th>\n",
              "      <th>6</th>\n",
              "      <th>7</th>\n",
              "      <th>8</th>\n",
              "      <th>9</th>\n",
              "      <th>10</th>\n",
              "      <th>11</th>\n",
              "      <th>12</th>\n",
              "      <th>13</th>\n",
              "      <th>14</th>\n",
              "      <th>15</th>\n",
              "      <th>16</th>\n",
              "      <th>17</th>\n",
              "      <th>18</th>\n",
              "      <th>19</th>\n",
              "      <th>20</th>\n",
              "      <th>21</th>\n",
              "      <th>22</th>\n",
              "      <th>23</th>\n",
              "      <th>24</th>\n",
              "      <th>25</th>\n",
              "      <th>26</th>\n",
              "      <th>27</th>\n",
              "      <th>28</th>\n",
              "    </tr>\n",
              "  </thead>\n",
              "  <tbody>\n",
              "    <tr>\n",
              "      <th>0</th>\n",
              "      <td>0.362809</td>\n",
              "      <td>0.549348</td>\n",
              "      <td>0.420010</td>\n",
              "      <td>0.122967</td>\n",
              "      <td>0.360474</td>\n",
              "      <td>0.372093</td>\n",
              "      <td>0.545914</td>\n",
              "      <td>0.334132</td>\n",
              "      <td>0.417424</td>\n",
              "      <td>0.700230</td>\n",
              "      <td>0.361922</td>\n",
              "      <td>0.40873</td>\n",
              "      <td>0.483690</td>\n",
              "      <td>0.689431</td>\n",
              "      <td>0.205347</td>\n",
              "      <td>0.304652</td>\n",
              "      <td>0.746818</td>\n",
              "      <td>0.557927</td>\n",
              "      <td>0.466175</td>\n",
              "      <td>0.507338</td>\n",
              "      <td>0.429703</td>\n",
              "      <td>0.748288</td>\n",
              "      <td>0.424686</td>\n",
              "      <td>0.449292</td>\n",
              "      <td>0.44671</td>\n",
              "      <td>0.539136</td>\n",
              "      <td>0.275354</td>\n",
              "      <td>0.363019</td>\n",
              "      <td>0.480829</td>\n",
              "    </tr>\n",
              "    <tr>\n",
              "      <th>1</th>\n",
              "      <td>0.349166</td>\n",
              "      <td>0.564246</td>\n",
              "      <td>0.480195</td>\n",
              "      <td>0.133130</td>\n",
              "      <td>0.387070</td>\n",
              "      <td>0.322481</td>\n",
              "      <td>0.451278</td>\n",
              "      <td>0.319863</td>\n",
              "      <td>0.405051</td>\n",
              "      <td>0.779056</td>\n",
              "      <td>0.378714</td>\n",
              "      <td>0.40582</td>\n",
              "      <td>0.404689</td>\n",
              "      <td>0.635911</td>\n",
              "      <td>0.217751</td>\n",
              "      <td>0.280830</td>\n",
              "      <td>0.645546</td>\n",
              "      <td>0.558481</td>\n",
              "      <td>0.480417</td>\n",
              "      <td>0.527581</td>\n",
              "      <td>0.486452</td>\n",
              "      <td>0.666096</td>\n",
              "      <td>0.419456</td>\n",
              "      <td>0.534610</td>\n",
              "      <td>0.41471</td>\n",
              "      <td>0.692433</td>\n",
              "      <td>0.315703</td>\n",
              "      <td>0.320710</td>\n",
              "      <td>0.497409</td>\n",
              "    </tr>\n",
              "  </tbody>\n",
              "</table>\n",
              "</div>"
            ],
            "text/plain": [
              "         0         1         2   ...        26        27        28\n",
              "0  0.362809  0.549348  0.420010  ...  0.275354  0.363019  0.480829\n",
              "1  0.349166  0.564246  0.480195  ...  0.315703  0.320710  0.497409\n",
              "\n",
              "[2 rows x 29 columns]"
            ]
          },
          "metadata": {
            "tags": []
          },
          "execution_count": 55
        }
      ]
    },
    {
      "cell_type": "code",
      "metadata": {
        "id": "9k2b-6yXChqs",
        "colab_type": "code",
        "colab": {
          "base_uri": "https://localhost:8080/",
          "height": 34
        },
        "outputId": "6275a9aa-6885-4d4d-ecd7-ec2077cd0229"
      },
      "source": [
        "train_size = int(len(pm_data_normalized) * 0.9)\n",
        "train, test = pm_data_normalized.iloc[0:train_size], pm_data_normalized.iloc[train_size:len(pm_data_normalized)]\n",
        "print(len(train), len(test))"
      ],
      "execution_count": null,
      "outputs": [
        {
          "output_type": "stream",
          "text": [
            "7874 875\n"
          ],
          "name": "stdout"
        }
      ]
    },
    {
      "cell_type": "code",
      "metadata": {
        "id": "fvp-VxBFFBSd",
        "colab_type": "code",
        "colab": {
          "base_uri": "https://localhost:8080/",
          "height": 34
        },
        "outputId": "4cdad5d6-9274-4160-8715-49d1981c6251"
      },
      "source": [
        "len(train[1])"
      ],
      "execution_count": null,
      "outputs": [
        {
          "output_type": "execute_result",
          "data": {
            "text/plain": [
              "7874"
            ]
          },
          "metadata": {
            "tags": []
          },
          "execution_count": 57
        }
      ]
    },
    {
      "cell_type": "code",
      "metadata": {
        "id": "ihdgB2weCrcs",
        "colab_type": "code",
        "colab": {}
      },
      "source": [
        "train_data = []\n",
        "test_data = []\n",
        "for i in range(train.shape[1]):\n",
        "  train_data.append(list(train[i].to_numpy()))\n",
        "  test_data.append(list(test[i].to_numpy()))"
      ],
      "execution_count": null,
      "outputs": []
    },
    {
      "cell_type": "code",
      "metadata": {
        "id": "_yTUgu0MIMZA",
        "colab_type": "code",
        "colab": {
          "base_uri": "https://localhost:8080/",
          "height": 51
        },
        "outputId": "d614007b-3e75-4d5c-d0eb-d19731474b5f"
      },
      "source": [
        "\n",
        "train_x1 = []\n",
        "train_y1 = []\n",
        "window=24\n",
        "for i in range(len(train_data[0])-window):\n",
        "  train_tempX = []\n",
        "  train_tempY = []\n",
        "  for j in range(train.shape[1]):\n",
        "    train_tempX.append(train_data[j][i:i+window-1])\n",
        "    train_tempY.append(train_data[j][i+window])\n",
        "  train_x1.append(train_tempX)\n",
        "  train_y1.append(train_tempY)\n",
        "train_X_2d = np.array(train_x1)\n",
        "train_Y_2d = np.array(train_y1)\n",
        "print(train_X_2d.shape)\n",
        "print(train_Y_2d.shape)"
      ],
      "execution_count": null,
      "outputs": [
        {
          "output_type": "stream",
          "text": [
            "(7850, 29, 23)\n",
            "(7850, 29)\n"
          ],
          "name": "stdout"
        }
      ]
    },
    {
      "cell_type": "code",
      "metadata": {
        "id": "DlnS3fEZPZR7",
        "colab_type": "code",
        "colab": {
          "base_uri": "https://localhost:8080/",
          "height": 51
        },
        "outputId": "d04dc74d-1651-4ecd-ffa6-5dba19ae8a4a"
      },
      "source": [
        "\n",
        "test_x1 = []\n",
        "test_y1 = []\n",
        "window=24\n",
        "for i in range(len(test_data[0])-window):\n",
        "  test_tempX = []\n",
        "  test_tempY = []\n",
        "  for j in range(test.shape[1]):\n",
        "    test_tempX.append(test_data[j][i:i+window-1])\n",
        "    test_tempY.append(test_data[j][i+window])\n",
        "  test_x1.append(test_tempX)\n",
        "  test_y1.append(test_tempY)\n",
        "test_X_2d = np.array(test_x1)\n",
        "test_Y_2d = np.array(test_y1)\n",
        "print(test_X_2d.shape)\n",
        "print(test_Y_2d.shape)"
      ],
      "execution_count": null,
      "outputs": [
        {
          "output_type": "stream",
          "text": [
            "(851, 29, 23)\n",
            "(851, 29)\n"
          ],
          "name": "stdout"
        }
      ]
    },
    {
      "cell_type": "code",
      "metadata": {
        "id": "J6WO2NdyzTls",
        "colab_type": "code",
        "colab": {
          "base_uri": "https://localhost:8080/",
          "height": 34
        },
        "outputId": "4af3e630-9f36-4820-96a7-78d1053d2dbd"
      },
      "source": [
        "min_max_scaler = preprocessing.MinMaxScaler()\n",
        "ws_data_scaled = min_max_scaler.fit_transform(ws_data.drop(labels=['FromDate','ToDate'],axis=1))\n",
        "ws_data_normalized = pd.DataFrame(ws_data_scaled)\n",
        "\n",
        "train_size = int(len(ws_data_normalized[0]) * 0.9)\n",
        "ws_train = []\n",
        "ws_test = []\n",
        "for i in range(train_size-24):\n",
        "  ws_train1 = ws_data_normalized.iloc[i:i+23]\n",
        "  ws_train1 = ws_train1.sum()/23\n",
        "  ws_train.append(ws_train1)\n",
        "\n",
        "for i in range(train_size,len(ws_data_normalized)-24):\n",
        "  ws_test1 =  ws_data_normalized.iloc[i:i+23]\n",
        "  ws_test1 = ws_test1.sum()/23\n",
        "  ws_test.append(ws_test1)\n",
        "\n",
        "ws_train = np.array(ws_train)\n",
        "ws_test = np.array(ws_test)\n",
        "\n",
        "print(ws_train.shape, ws_test.shape)"
      ],
      "execution_count": null,
      "outputs": [
        {
          "output_type": "stream",
          "text": [
            "(7850, 29) (851, 29)\n"
          ],
          "name": "stdout"
        }
      ]
    },
    {
      "cell_type": "code",
      "metadata": {
        "id": "Ht0_ACLWa7yg",
        "colab_type": "code",
        "colab": {}
      },
      "source": [
        "from tensorflow.keras import Sequential\n",
        "from tensorflow.keras.layers import Dense, LSTM, Dropout,concatenate,Input,Flatten,Conv3D,Reshape\n",
        "from tensorflow.keras.models import Model"
      ],
      "execution_count": null,
      "outputs": []
    },
    {
      "cell_type": "code",
      "metadata": {
        "id": "7uUGtOl8dKW6",
        "colab_type": "code",
        "colab": {}
      },
      "source": [
        "input_vector = Input(shape=(train_X_2d.shape[1:]), name='main_input')\n",
        "x = LSTM(units =150,activation = 'relu', return_sequences = True)(input_vector)\n",
        "x = LSTM(units =150,activation = 'relu')(x)\n",
        "x = Dense(150, activation='relu')(x)\n",
        "auxiliary_input=Input(shape=(29), name='aux_input')\n",
        "x = concatenate([x, auxiliary_input])\n",
        "x = Dense(300, activation='relu')(x)\n",
        "main_output = Dense(29, name='main_output')(x)\n",
        "model = Model(inputs=[input_vector,auxiliary_input], outputs=main_output)"
      ],
      "execution_count": null,
      "outputs": []
    },
    {
      "cell_type": "code",
      "metadata": {
        "id": "K1L6PismWJcA",
        "colab_type": "code",
        "colab": {
          "base_uri": "https://localhost:8080/",
          "height": 451
        },
        "outputId": "56e43d76-473b-4b15-ebdc-0010bb1a4dd6"
      },
      "source": [
        "model.summary()"
      ],
      "execution_count": null,
      "outputs": [
        {
          "output_type": "stream",
          "text": [
            "Model: \"model_3\"\n",
            "__________________________________________________________________________________________________\n",
            "Layer (type)                    Output Shape         Param #     Connected to                     \n",
            "==================================================================================================\n",
            "main_input (InputLayer)         [(None, 29, 23)]     0                                            \n",
            "__________________________________________________________________________________________________\n",
            "lstm_6 (LSTM)                   (None, 29, 150)      104400      main_input[0][0]                 \n",
            "__________________________________________________________________________________________________\n",
            "lstm_7 (LSTM)                   (None, 150)          180600      lstm_6[0][0]                     \n",
            "__________________________________________________________________________________________________\n",
            "dense_6 (Dense)                 (None, 150)          22650       lstm_7[0][0]                     \n",
            "__________________________________________________________________________________________________\n",
            "aux_input (InputLayer)          [(None, 29)]         0                                            \n",
            "__________________________________________________________________________________________________\n",
            "concatenate_3 (Concatenate)     (None, 179)          0           dense_6[0][0]                    \n",
            "                                                                 aux_input[0][0]                  \n",
            "__________________________________________________________________________________________________\n",
            "dense_7 (Dense)                 (None, 300)          54000       concatenate_3[0][0]              \n",
            "__________________________________________________________________________________________________\n",
            "main_output (Dense)             (None, 29)           8729        dense_7[0][0]                    \n",
            "==================================================================================================\n",
            "Total params: 370,379\n",
            "Trainable params: 370,379\n",
            "Non-trainable params: 0\n",
            "__________________________________________________________________________________________________\n"
          ],
          "name": "stdout"
        }
      ]
    },
    {
      "cell_type": "code",
      "metadata": {
        "id": "G0SenIVwdNoa",
        "colab_type": "code",
        "colab": {}
      },
      "source": [
        "optimizer = tf.keras.optimizers.SGD(lr=0.1, momentum=0.9)\n",
        "model.compile(optimizer=optimizer,loss='mean_squared_error',metrics=['mae'])"
      ],
      "execution_count": null,
      "outputs": []
    },
    {
      "cell_type": "code",
      "metadata": {
        "id": "YhTsmh8xf8vK",
        "colab_type": "code",
        "colab": {
          "base_uri": "https://localhost:8080/",
          "height": 1000
        },
        "outputId": "b6931b45-affe-430f-df7a-c453e05501cf"
      },
      "source": [
        "history=model.fit([train_X_2d,ws_train],[train_Y_2d],epochs=50)"
      ],
      "execution_count": null,
      "outputs": [
        {
          "output_type": "stream",
          "text": [
            "Epoch 1/50\n",
            "246/246 [==============================] - 22s 89ms/step - loss: 0.0079 - mae: 0.0574\n",
            "Epoch 2/50\n",
            "246/246 [==============================] - 22s 89ms/step - loss: 0.0034 - mae: 0.0367\n",
            "Epoch 3/50\n",
            "246/246 [==============================] - 22s 89ms/step - loss: 0.0028 - mae: 0.0333\n",
            "Epoch 4/50\n",
            "246/246 [==============================] - 22s 89ms/step - loss: 0.0027 - mae: 0.0324\n",
            "Epoch 5/50\n",
            "246/246 [==============================] - 22s 90ms/step - loss: 0.0025 - mae: 0.0307\n",
            "Epoch 6/50\n",
            "246/246 [==============================] - 22s 90ms/step - loss: 0.0023 - mae: 0.0298\n",
            "Epoch 7/50\n",
            "246/246 [==============================] - 22s 89ms/step - loss: 0.0023 - mae: 0.0295\n",
            "Epoch 8/50\n",
            "246/246 [==============================] - 22s 90ms/step - loss: 0.0023 - mae: 0.0296\n",
            "Epoch 9/50\n",
            "246/246 [==============================] - 27s 110ms/step - loss: 0.0022 - mae: 0.0291\n",
            "Epoch 10/50\n",
            "246/246 [==============================] - 22s 90ms/step - loss: 0.0022 - mae: 0.0291\n",
            "Epoch 11/50\n",
            "246/246 [==============================] - 22s 89ms/step - loss: 0.0022 - mae: 0.0287\n",
            "Epoch 12/50\n",
            "246/246 [==============================] - 22s 89ms/step - loss: 0.0021 - mae: 0.0285\n",
            "Epoch 13/50\n",
            "246/246 [==============================] - 22s 89ms/step - loss: 0.0021 - mae: 0.0284\n",
            "Epoch 14/50\n",
            "246/246 [==============================] - 22s 89ms/step - loss: 0.0021 - mae: 0.0280\n",
            "Epoch 15/50\n",
            "246/246 [==============================] - 22s 89ms/step - loss: 0.0021 - mae: 0.0280\n",
            "Epoch 16/50\n",
            "246/246 [==============================] - 22s 89ms/step - loss: 0.0021 - mae: 0.0280\n",
            "Epoch 17/50\n",
            "246/246 [==============================] - 22s 89ms/step - loss: 0.0021 - mae: 0.0279\n",
            "Epoch 18/50\n",
            "246/246 [==============================] - 22s 89ms/step - loss: 0.0021 - mae: 0.0280\n",
            "Epoch 19/50\n",
            "246/246 [==============================] - 22s 90ms/step - loss: 0.0020 - mae: 0.0274\n",
            "Epoch 20/50\n",
            "246/246 [==============================] - 22s 89ms/step - loss: 0.0020 - mae: 0.0271\n",
            "Epoch 21/50\n",
            "246/246 [==============================] - 22s 89ms/step - loss: 0.0020 - mae: 0.0275\n",
            "Epoch 22/50\n",
            "246/246 [==============================] - 22s 88ms/step - loss: 0.0020 - mae: 0.0277\n",
            "Epoch 23/50\n",
            "246/246 [==============================] - 22s 89ms/step - loss: 0.0021 - mae: 0.0279\n",
            "Epoch 24/50\n",
            "246/246 [==============================] - 22s 89ms/step - loss: 0.0020 - mae: 0.0270\n",
            "Epoch 25/50\n",
            "246/246 [==============================] - 22s 88ms/step - loss: 0.0019 - mae: 0.0268\n",
            "Epoch 26/50\n",
            "246/246 [==============================] - 22s 89ms/step - loss: 0.0020 - mae: 0.0273\n",
            "Epoch 27/50\n",
            "246/246 [==============================] - 22s 88ms/step - loss: 0.0020 - mae: 0.0277\n",
            "Epoch 28/50\n",
            "246/246 [==============================] - 22s 89ms/step - loss: 0.0020 - mae: 0.0271\n",
            "Epoch 29/50\n",
            "246/246 [==============================] - 22s 88ms/step - loss: 0.0019 - mae: 0.0266\n",
            "Epoch 30/50\n",
            "246/246 [==============================] - 22s 88ms/step - loss: 0.0019 - mae: 0.0270\n",
            "Epoch 31/50\n",
            "246/246 [==============================] - 22s 89ms/step - loss: 0.0019 - mae: 0.0267\n",
            "Epoch 32/50\n",
            "246/246 [==============================] - 22s 88ms/step - loss: 0.0019 - mae: 0.0270\n",
            "Epoch 33/50\n",
            "246/246 [==============================] - 22s 88ms/step - loss: 0.0019 - mae: 0.0268\n",
            "Epoch 34/50\n",
            "246/246 [==============================] - 22s 88ms/step - loss: 0.0020 - mae: 0.0272\n",
            "Epoch 35/50\n",
            "246/246 [==============================] - 21s 87ms/step - loss: 0.0020 - mae: 0.0271\n",
            "Epoch 36/50\n",
            "246/246 [==============================] - 26s 105ms/step - loss: 0.0019 - mae: 0.0266\n",
            "Epoch 37/50\n",
            "246/246 [==============================] - 22s 90ms/step - loss: 0.0019 - mae: 0.0270\n",
            "Epoch 38/50\n",
            "246/246 [==============================] - 22s 88ms/step - loss: 0.0019 - mae: 0.0267\n",
            "Epoch 39/50\n",
            "246/246 [==============================] - 22s 88ms/step - loss: 0.0019 - mae: 0.0263\n",
            "Epoch 40/50\n",
            "246/246 [==============================] - 22s 88ms/step - loss: 0.0019 - mae: 0.0271\n",
            "Epoch 41/50\n",
            "246/246 [==============================] - 22s 88ms/step - loss: 0.0019 - mae: 0.0262\n",
            "Epoch 42/50\n",
            "246/246 [==============================] - 22s 88ms/step - loss: 0.0019 - mae: 0.0264\n",
            "Epoch 43/50\n",
            "246/246 [==============================] - 22s 88ms/step - loss: 0.0019 - mae: 0.0263\n",
            "Epoch 44/50\n",
            "246/246 [==============================] - 21s 87ms/step - loss: 0.0019 - mae: 0.0263\n",
            "Epoch 45/50\n",
            "246/246 [==============================] - 22s 88ms/step - loss: 0.0018 - mae: 0.0260\n",
            "Epoch 46/50\n",
            "246/246 [==============================] - 22s 88ms/step - loss: 0.0018 - mae: 0.0262\n",
            "Epoch 47/50\n",
            "246/246 [==============================] - 22s 88ms/step - loss: 0.0019 - mae: 0.0267\n",
            "Epoch 48/50\n",
            "246/246 [==============================] - 22s 89ms/step - loss: 0.0019 - mae: 0.0263\n",
            "Epoch 49/50\n",
            "246/246 [==============================] - 22s 88ms/step - loss: 0.0018 - mae: 0.0262\n",
            "Epoch 50/50\n",
            "246/246 [==============================] - 22s 88ms/step - loss: 0.0018 - mae: 0.0258\n"
          ],
          "name": "stdout"
        }
      ]
    },
    {
      "cell_type": "code",
      "metadata": {
        "id": "vBqaem11gCHX",
        "colab_type": "code",
        "colab": {
          "base_uri": "https://localhost:8080/",
          "height": 51
        },
        "outputId": "33f3cd2c-9e2b-4ad1-db3a-1d8f2712fdb5"
      },
      "source": [
        "predictions = model.predict([test_X_2d,ws_test])\n",
        "print(predictions.shape)\n",
        "print(test_Y_2d.shape)"
      ],
      "execution_count": null,
      "outputs": [
        {
          "output_type": "stream",
          "text": [
            "(851, 29)\n",
            "(851, 29)\n"
          ],
          "name": "stdout"
        }
      ]
    },
    {
      "cell_type": "code",
      "metadata": {
        "id": "psYQ7Zl9g6f-",
        "colab_type": "code",
        "colab": {
          "base_uri": "https://localhost:8080/",
          "height": 34
        },
        "outputId": "1c37714d-ba2c-4387-d2cd-9e56ecb192da"
      },
      "source": [
        "new=[]\n",
        "newtest=[]\n",
        "for i in range(predictions.shape[0]):\n",
        "  new.append(predictions[i][5])\n",
        "  newtest.append(test_Y_2d[i][2])\n",
        "new=np.array(new)\n",
        "newtest=np.array(newtest)\n",
        "print(new.shape)"
      ],
      "execution_count": null,
      "outputs": [
        {
          "output_type": "stream",
          "text": [
            "(851,)\n"
          ],
          "name": "stdout"
        }
      ]
    },
    {
      "cell_type": "code",
      "metadata": {
        "id": "2Dq4Hhw8hfey",
        "colab_type": "code",
        "colab": {
          "base_uri": "https://localhost:8080/",
          "height": 313
        },
        "outputId": "f59a18d4-8f04-43a1-9eac-0a63faaf51db"
      },
      "source": [
        "import matplotlib.image  as mpimg\n",
        "import matplotlib.pyplot as plt\n",
        "\n",
        "plt.plot(new, 'r')\n",
        "plt.plot(newtest, 'b')\n",
        "plt.xlabel(\"Time\")\n",
        "plt.ylabel(\"PM 2.5\")\n",
        "plt.legend([\"predictions\",\"Theoretical\"])\n",
        "\n",
        "plt.figure()\n"
      ],
      "execution_count": null,
      "outputs": [
        {
          "output_type": "execute_result",
          "data": {
            "text/plain": [
              "<Figure size 432x288 with 0 Axes>"
            ]
          },
          "metadata": {
            "tags": []
          },
          "execution_count": 86
        },
        {
          "output_type": "display_data",
          "data": {
            "image/png": "[encoded data removed]",
            "text/plain": [
              "<Figure size 432x288 with 1 Axes>"
            ]
          },
          "metadata": {
            "tags": [],
            "needs_background": "light"
          }
        },
        {
          "output_type": "display_data",
          "data": {
            "text/plain": [
              "<Figure size 432x288 with 0 Axes>"
            ]
          },
          "metadata": {
            "tags": []
          }
        }
      ]
    },
    {
      "cell_type": "code",
      "metadata": {
        "id": "yDwjo-DtiVjH",
        "colab_type": "code",
        "colab": {}
      },
      "source": [
        ""
      ],
      "execution_count": null,
      "outputs": []
    }
  ]
}